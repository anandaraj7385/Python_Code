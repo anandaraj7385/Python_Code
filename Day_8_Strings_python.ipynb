{
  "nbformat": 4,
  "nbformat_minor": 0,
  "metadata": {
    "colab": {
      "name": "Day_8_Strings-python.ipynb",
      "provenance": [],
      "authorship_tag": "ABX9TyMrFwvAiIqzlJWIk93eBGbz",
      "include_colab_link": true
    },
    "kernelspec": {
      "name": "python3",
      "display_name": "Python 3"
    },
    "language_info": {
      "name": "python"
    }
  },
  "cells": [
    {
      "cell_type": "markdown",
      "metadata": {
        "id": "view-in-github",
        "colab_type": "text"
      },
      "source": [
        "<a href=\"https://colab.research.google.com/github/anandaraj7385/Python_Code/blob/main/Day_8_Strings_python.ipynb\" target=\"_parent\"><img src=\"https://colab.research.google.com/assets/colab-badge.svg\" alt=\"Open In Colab\"/></a>"
      ]
    },
    {
      "cell_type": "markdown",
      "metadata": {
        "id": "k1jpBNiQmYmn"
      },
      "source": [
        "**Python Strings**"
      ]
    },
    {
      "cell_type": "code",
      "metadata": {
        "colab": {
          "base_uri": "https://localhost:8080/"
        },
        "id": "VDs5y1CIG3BC",
        "outputId": "2b496632-1393-4a50-d2ff-172880b7aafd"
      },
      "source": [
        "print(\"hello pycoders\")"
      ],
      "execution_count": null,
      "outputs": [
        {
          "output_type": "stream",
          "text": [
            "hello pycoders\n"
          ],
          "name": "stdout"
        }
      ]
    },
    {
      "cell_type": "code",
      "metadata": {
        "colab": {
          "base_uri": "https://localhost:8080/"
        },
        "id": "g7J_F_SXHchc",
        "outputId": "7b6119c6-ecfe-49d8-8381-b2549b769ddc"
      },
      "source": [
        "print('hello pycoders')"
      ],
      "execution_count": null,
      "outputs": [
        {
          "output_type": "stream",
          "text": [
            "hello pycoders\n"
          ],
          "name": "stdout"
        }
      ]
    },
    {
      "cell_type": "code",
      "metadata": {
        "colab": {
          "base_uri": "https://localhost:8080/"
        },
        "id": "Pp_OrkG2HkA2",
        "outputId": "87ed2fc4-8652-4601-be8a-b6b437f59ffb"
      },
      "source": [
        "print(\"i'm boy\")"
      ],
      "execution_count": null,
      "outputs": [
        {
          "output_type": "stream",
          "text": [
            "i'm boy\n"
          ],
          "name": "stdout"
        }
      ]
    },
    {
      "cell_type": "code",
      "metadata": {
        "colab": {
          "base_uri": "https://localhost:8080/"
        },
        "id": "q3oPmDJGIb7g",
        "outputId": "45b1b1b8-0c0e-4ea3-9616-ef587a6d5bc1"
      },
      "source": [
        "print(\"hello\")\n",
        "print(\"pycoders\")\n",
        "print(\"SECE\")"
      ],
      "execution_count": null,
      "outputs": [
        {
          "output_type": "stream",
          "text": [
            "hello\n",
            "pycoders\n",
            "SECE\n"
          ],
          "name": "stdout"
        }
      ]
    },
    {
      "cell_type": "markdown",
      "metadata": {
        "id": "6-ha0voKmn4o"
      },
      "source": [
        "Python string is the **collection of the characters** surrounded by single quotes, double quotes, or triple quotes. The computer does not understand the characters; internally, it stores manipulated character as the combination of the 0's and 1's.\n",
        "\n",
        "Each character is encoded in the ASCII or Unicode character. So we can say that Python strings are also called the collection of Unicode characters.\n",
        "\n",
        "In Python, strings can be created by enclosing the character or the sequence of characters in the quotes. Python allows us to use single quotes, double quotes, or triple quotes to create the string."
      ]
    },
    {
      "cell_type": "code",
      "metadata": {
        "id": "LACMc4slkpY0"
      },
      "source": [
        "print(\"Hello\")\n",
        "print('Hello')"
      ],
      "execution_count": null,
      "outputs": []
    },
    {
      "cell_type": "markdown",
      "metadata": {
        "id": "WOjy85GpoUPO"
      },
      "source": [
        "**Assign String to a Variable**\n",
        "Assigning a string to a variable is done with the variable name followed by an equal sign and the string:"
      ]
    },
    {
      "cell_type": "code",
      "metadata": {
        "id": "wWspW6ixoQW2",
        "colab": {
          "base_uri": "https://localhost:8080/"
        },
        "outputId": "e82a4936-2564-417c-9eea-a778781f1dbd"
      },
      "source": [
        "a = \"Hello\"\n",
        "print(a)"
      ],
      "execution_count": null,
      "outputs": [
        {
          "output_type": "stream",
          "text": [
            "Hello\n"
          ],
          "name": "stdout"
        }
      ]
    },
    {
      "cell_type": "markdown",
      "metadata": {
        "id": "1ivT0swXofxc"
      },
      "source": [
        "# **Multiline Strings :**\n",
        "\n",
        "You can assign a multiline string to a variable by using three quotes:"
      ]
    },
    {
      "cell_type": "code",
      "metadata": {
        "colab": {
          "base_uri": "https://localhost:8080/"
        },
        "id": "6AQ6Lsbkomop",
        "outputId": "ea45b3e5-3651-4843-fcc1-78c6747e3aed"
      },
      "source": [
        "a = \"\"\"Lorem ipsum dolor sit amet,\n",
        "consectetur adipiscing elit,\n",
        "sed do eiusmod tempor incididunt\n",
        "ut labore et dolore magna aliqua.\"\"\"\n",
        "print(a)"
      ],
      "execution_count": null,
      "outputs": [
        {
          "output_type": "stream",
          "text": [
            "Lorem ipsum dolor sit amet,\n",
            "consectetur adipiscing elit,\n",
            "sed do eiusmod tempor incididunt\n",
            "ut labore et dolore magna aliqua.\n"
          ],
          "name": "stdout"
        }
      ]
    },
    {
      "cell_type": "code",
      "metadata": {
        "id": "kb0Go0i6H-39"
      },
      "source": [
        "name=\"Anand\"\n",
        "Address=\"\"\"1/79,new street\n",
        " jhbkjbkjh bxbvkjxjkxv\"\"\""
      ],
      "execution_count": null,
      "outputs": []
    },
    {
      "cell_type": "code",
      "metadata": {
        "colab": {
          "base_uri": "https://localhost:8080/"
        },
        "id": "XRmQA3EopPs2",
        "outputId": "d306b18c-a1f0-4fea-b80e-cb7234ab1a5d"
      },
      "source": [
        "#Using single quotes  \n",
        "str1 = 'Hello Python'  \n",
        "print(str1) \n",
        " \n",
        "#Using double quotes  \n",
        "str2 = \"Hello Python\"  \n",
        "print(str2)  \n",
        "  \n",
        "#Using triple quotes  \n",
        "str3 = '''''Triple quotes are generally used for  \n",
        "    represent the multiline or \n",
        "    docstring'''   \n",
        "print(str3)  "
      ],
      "execution_count": null,
      "outputs": [
        {
          "output_type": "stream",
          "text": [
            "Hello Python\n",
            "Hello Python\n",
            "''Triple quotes are generally used for  \n",
            "    represent the multiline or \n",
            "    docstring\n"
          ],
          "name": "stdout"
        }
      ]
    },
    {
      "cell_type": "markdown",
      "metadata": {
        "id": "Kx8APX_wouHl"
      },
      "source": [
        "# **Strings are Arrays**\n",
        "Like many other popular programming languages, strings in Python are arrays of bytes representing unicode characters.\n",
        "\n",
        "However, Python does not have a character data type, a single character is simply a string with a length of 1.\n",
        "\n",
        "Square brackets can be used to access elements of the string.\n",
        "\n",
        "![strings-indexing-and-splitting.png](data:image/png;base64,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)\n"
      ]
    },
    {
      "cell_type": "code",
      "metadata": {
        "colab": {
          "base_uri": "https://localhost:8080/"
        },
        "id": "qpCAYtwZowYJ",
        "outputId": "4010c34f-a3d4-4d25-8793-b408aac384e0"
      },
      "source": [
        "a = \"Hello, World!\"\n",
        "print(a[1])"
      ],
      "execution_count": null,
      "outputs": [
        {
          "output_type": "stream",
          "text": [
            "e\n"
          ],
          "name": "stdout"
        }
      ]
    },
    {
      "cell_type": "code",
      "metadata": {
        "colab": {
          "base_uri": "https://localhost:8080/"
        },
        "id": "e80eHm9iK3SD",
        "outputId": "66ad6c47-1e5f-4a8c-c2d4-188809bfad7c"
      },
      "source": [
        "print(a[12])"
      ],
      "execution_count": null,
      "outputs": [
        {
          "output_type": "stream",
          "text": [
            "!\n"
          ],
          "name": "stdout"
        }
      ]
    },
    {
      "cell_type": "code",
      "metadata": {
        "colab": {
          "base_uri": "https://localhost:8080/"
        },
        "id": "PUx-H5bNpbmq",
        "outputId": "dfb17842-2c36-4692-d0cf-a90d3457430b"
      },
      "source": [
        "str = \"HELLO\"  \n",
        "print(str[0])  \n",
        "print(str[1])  \n",
        "print(str[2])  \n",
        "print(str[3])  \n",
        "print(str[4])  \n",
        "# It returns the IndexError because 6th index doesn't exist  \n",
        "#print(str[6])  "
      ],
      "execution_count": null,
      "outputs": [
        {
          "output_type": "stream",
          "text": [
            "H\n",
            "E\n",
            "L\n",
            "L\n",
            "O\n"
          ],
          "name": "stdout"
        }
      ]
    },
    {
      "cell_type": "code",
      "metadata": {
        "colab": {
          "base_uri": "https://localhost:8080/"
        },
        "id": "gBxH-zNiLeoU",
        "outputId": "33238781-9083-4a6c-9d95-472c51ddc887"
      },
      "source": [
        "a=\"hello \"\n",
        "b=\"pycoders\"\n",
        "c=10\n",
        "print(a+b)\n",
        "print(a+' '+b)\n",
        "print(a*c)\n",
        "print(c*a)"
      ],
      "execution_count": null,
      "outputs": [
        {
          "output_type": "stream",
          "text": [
            "hello pycoders\n",
            "hello  pycoders\n",
            "hello hello hello hello hello hello hello hello hello hello \n"
          ],
          "name": "stdout"
        }
      ]
    },
    {
      "cell_type": "code",
      "metadata": {
        "colab": {
          "base_uri": "https://localhost:8080/",
          "height": 35
        },
        "id": "wfJGwRgJNDvU",
        "outputId": "685f60fd-2dec-44b0-94bf-5e972b68729b"
      },
      "source": [
        "a[2:]"
      ],
      "execution_count": null,
      "outputs": [
        {
          "output_type": "execute_result",
          "data": {
            "application/vnd.google.colaboratory.intrinsic+json": {
              "type": "string"
            },
            "text/plain": [
              "'llo '"
            ]
          },
          "metadata": {},
          "execution_count": 28
        }
      ]
    },
    {
      "cell_type": "code",
      "metadata": {
        "colab": {
          "base_uri": "https://localhost:8080/",
          "height": 35
        },
        "id": "9CW6zfjyNiZL",
        "outputId": "caac4950-e423-430c-a155-8542efa74b9b"
      },
      "source": [
        "a[3:]"
      ],
      "execution_count": null,
      "outputs": [
        {
          "output_type": "execute_result",
          "data": {
            "application/vnd.google.colaboratory.intrinsic+json": {
              "type": "string"
            },
            "text/plain": [
              "'lo '"
            ]
          },
          "metadata": {},
          "execution_count": 30
        }
      ]
    },
    {
      "cell_type": "code",
      "metadata": {
        "colab": {
          "base_uri": "https://localhost:8080/",
          "height": 35
        },
        "id": "3gmCZNXINzA0",
        "outputId": "5dbb81eb-2a7c-44ff-8a56-893fa3ef2460"
      },
      "source": [
        "num1=\"0123456789\"\n",
        "num1[0:7:3]"
      ],
      "execution_count": null,
      "outputs": [
        {
          "output_type": "execute_result",
          "data": {
            "application/vnd.google.colaboratory.intrinsic+json": {
              "type": "string"
            },
            "text/plain": [
              "'036'"
            ]
          },
          "metadata": {},
          "execution_count": 42
        }
      ]
    },
    {
      "cell_type": "markdown",
      "metadata": {
        "id": "AD_gjlYgqKJa"
      },
      "source": [
        "![strings-indexing-and-splitting2.png](data:image/png;base64,iVBORw0KGgoAAAANSUhEUgAAAWkAAAH+CAIAAADRemjiAAAAAXNSR0IArs4c6QAAAARnQU1BAACxjwv8YQUAAAAJcEhZcwAADsMAAA7DAcdvqGQAAEQxSURBVHhe7Z0HtBRVvu6BQ85JQAeGjMQBQZJKWnOBWSDqBYfMkEGCZOeq6ICDgMIDBfVdBWdQeGQEHrAA54mHoNwhK5lRkKToJQww5DTvu3d76xTV3dVV3VXV/13n6+Wadajetfd/f9/ev9qperL8kx8qQAWogHsFsri/hXdQASpABf5JdrARUAEqkIgCZEciqvEeKkAFyA62ASpABRJRgOxIRDXeQwWoANnBNkAFqEAiCpAdiah27969ihUrli1bNpGbHd/ToEGDLFmyjBgx4tq1a/gDn5UrV6q769Wrh3/ify2Z1a5dG9cbNmxoTqbutXwKFSpkn5WRc6yyLEXv3r27d+/ekCVPnjx58+atXLly//799+7da05mUyPHqjChFAXIjkSc2LBhA7qi3+xo2bIlShk3bhxCzJkzJ/7euHGjTHZMnjw5W7ZskYRKS0ubPn26IbFNjRKxgfekVAGyI7r8d+/efeedd+rWrVu4cOECBQo8+uijf/rTn1RSPNXNnaRDhw64WL9+fVwcMmTIggULSpQo0a5du+RtffbZZ5Gn6nvFixfH31999VUC7IgcnphjizusiJtgyZIlSpBKlSqtW7fu6tWr//jHPzBEKl26tLq+evVqVaJNjZKXizkErADZEV3wF198MfIp+sYbb8RiR9OmTZEeyMifPz/++PWvf23JNz09PercwTzFsNzSt29ffPvhhx/iOuYC+Pv48eMC2VGtWjXEhknQ2bNnzVX47rvvcuXKha8MeNnUKOB2z+KSV4DsiK5hkSJF0OgnTZp0/fp1PEgnTJhQtGjRf/mXf1GpMb6wzFmaNWuGKxiiDx8+/OLFi5cvX06eHTbuulrv8HXccfLkScVErMtEBty9e3f17Y8//ph8Y2UOohQgO6LbUapUKbR4TFUWL1585swZS6JY7MCzF6wJwGDFjrgDGZtk//7v/24/hDFqYT9n+eKLL1QY77//fmTFAV/17bZt2wKQhUUEqQDZEV3tDz74wNwzq1atOnHixCtXrtiPO7DqEYx5ctjx5ZdfKqHefffdyLq//vrr6tudO3cGowxLCUwBsiOm1HhU9uvXr3z58gZEWrRogd1ZmzlL5DKHkXsC6x1azFkwKFP6DBw4MDLgLl264CtswZw/fz6wNs2CglGA7Iiv8+nTp1966SXVQ3bt2mWw45e//KVxs1rvyITsgALYjULdcaYDQpnVPHbsmNpabtKkSXyVmUI3BciOKI4dOXIEs4+SJUviPMWt//7gDzM7hg0bhn+iY/ztb3/DwS1kEZcd3jYMOWulqNeaNWuUOIAp/sbMDp9Vq1b94he/wEWsH2/atMnb6jM3CQqQHVFcwMREndewfBo1aqTmLDNnzjS+Uoc4JbMjsiLqijp2YbN08tZbbzlJgDQ4hBL1bBjwOmfOHAkNnTF4rgDZEV3SS5cujRkzBgerMRTH2bAaNWr827/9Gy6q1HiuPv300/gKGytqnp/J2QEFvv76axzfUGfS8Xn44YcHDx6McZnnTZYZClGA7BBiBMOgApopQHZoZhjDpQJCFCA7hBjBMKiAZgqQHZoZxnCpgBAFyA4hRjAMKqCZAmSHZoYxXCogRAGyQ4gRDIMKaKYA2aGZYQyXCghRgOwQYgTDoAKaKUB2aGYYw6UCQhQgO4QYwTCogGYKkB2aGcZwqYAQBcgOIUYwDCqgmQJkh2aGMVwqIEQBskOIEQyDCmimANmhmWEMlwoIUYDsEGIEw6ACmilAdmhmGMOlAkIUIDuEGMEwqIBmCpAdmhnGcKmAEAXIDiFGMAwqoJkCWYZOT+d/VIAKUAG3CvwXO/72453w/cd66eUp/dLLr+ffSic7NOMm+5hefSysfpEdmoED3SasbZH10ouJZAfZIUUBsoPsYFv0VwH2Mb36WFj94rjD337uRysPa1tkvfxoLf7lSXaQHVIUIDv86+d+5Ex2SOk5zt1lH3OulYSUYfWL7CA7pCgQ1j4W1nqRHVJ6jvMnZFjbIuvlvA1ISEl2kB1SFCA7JBDBeQxkh5Se49wz9jHnWklIGVa/yA6yQ4oCYe1jYa0X2SGl5zh/Qoa1LbJeztuAhJRBsKPmr+pmyZIF/2upcNUav8L12nUb+CSE321R1Svqp0DBQj5VKpj3WWJZ5l+lWK9ktF35/3Z26Nzrl+Uq5s6dJ0+evOUqVO7Yvd+a9D3J5Bn3XrIj8XEH2RG3eblK4DfrEUwomTh67KRsaWmRz7C0tLQXx0/925nbrlxwnpjsSJYdkeMp5+onlpJ9LDHdQsmOGbMXZc2aFeAoW77S7AVrvv7u8ldHL/7vj5Y/+FAZRZP3565MWC77G8kOsiOKAqF8PoeSHZWqVAcgMEf+64Ez5q6evuPbXLlyq7WCI/4MPcgOsoPsSLwNOHmk+zdO3LT7OzXo6DVgeCQgnvltdzX0+HLvaSdxuk0THDtiLSuGcq30tTffc+uE8/T+tUUjBo47nNsRN6V/fi1atVmxI2p7GzN2ovp26dqtcYNMIAHZkfgzx2atlOxIoC3618fCysRFq7coOvxh0oxIwUe9NEF9+8mn2xKwI+4twbEjrHu0XCuN28gcJiA7HAplJMNkRNGh8+8GRM5Z2rXvgq+yZcu2/dBPbnN2kp7sSHbcQXY4aWdO0pAdTlSypFGDX5zp2Lz7uPmrz7d/kzNnLnz1aKMnuFbqupP73RZTsiiA9uF3vUK5H6H6VUos89WvWf9nlRp6PPSLX34w7/9+fewS/sO+bKmHSuMijnj8nxWfJ4AkJ7dw3OEaSZbJc6w1YBjpxIAE0vjaFs19LGrVXv7jtARidnIL6+VEpcg0L732v8CISLNy5Mg5+e0PE8vTyV1kB9kRc4+W7HDSheKmCYCJqz/f89uufdSZdPxXvuLD3XoN+svWg3FjSyZBEOxIJr5k7g3As2TCS/he1ith6VJyY1j9IjsSH3ekpCEGs96RkqqFtY+FtV5kB9khRYGw9rGw1ovskNJznD/qw9oWWS/nbUBCSrKD7JCiANkhgQjOYyA7pPQc556xjznXSkLKsPpFdpAdUhQIax8La73IDik9x/kTMqxtkfVy3gYkpCQ7yA4pCpAdEojgPAayQ0rPce4Z+5hzrSSkDKtfZAfZIUWBsPaxsNaL7JDSc5w/IcPaFlkv521AQkqyg+yQogDZIYEIzmP4mR2wjf9RASpABVwpkOWf/FABKkAF3CtAdrjXjHdQASrwz3+SHWwFVIAKJKIA2ZGIaryHClABsoNtgApQgUQUIDsSUY33UAEqQHawDVABKpCIAmRHIqrxHipABcgOtgEqQAUSUYDsSEQ13kMFqIAv7Pj888+bNWuWL1++vHnzNmnS5LPPPtNC6HPnztWrVw//n0bfffed8IDT09OhMOQtXLhwo0aNli5dKjxgFd4nn3zy+OOPFypUKHfu3HXq1HnnnXe0CFsFuXbtWvxfQ0P2e/fuaRS2f6F6z44tW7Zkz57997///cmTJ8+cOfPKK6/gn7joXx08yfn7779Ha27evLl8dqxa9V//L6TPPfcc5D179uzo0aMR86JFizzRwb9MZs2ahTgnTpx4/vx5hP3qq6/inzNnzvSvRA9zhtQlS5YkO8ySes8OgBmd0FzGI488goseGul5Vj/88EO1atVWr149efJk+eyoVatW1apV7969q3TAY7Bs2bIYMXkui7cZlilTpnXr1uY8q1SpUr9+fW9L8SM3KIzIf/WrX2HQxHGHobDH7Lh8+TIeiX/4wx/MFo4dOxYXL1265IevnuT5xRdfrF+/HllpwY5169ZZxnFNmzatXLmyJ1L4lMnt27f/8pe/7Nu3z5w/CIjIfSrRw2ynTp2KSdbevXsBDrLDL3Zs374dz+25c+eanfvoo49w8T/+4z88tNOnrLRgh6XuFy9exApCz549fdLE82wxYjp+/PiQIUMKFiy4adMmz/P3NsOdO3fmypVLLc1gSkt2+MUOPFuAiRUrVpj9W758OS5iqclbU/3ITTt24Hnetm1bsOPYsWN+COJ5ngsXLkRjwKdGjRqbN2/2PH9vM/zHP/6BiVWbNm3U+ijZYZbX4znLp59+imaxcuXKSHZgpO2tr37kphc7MOJo1apVgQIF5D+9zWZh3HHixAlMbLGI/t577/nho1d59urVq0SJEj/++KPKkOzwkR07duyInLPMmTMHF7dt2+aVo/7loxE7Dh48iEdi6dKld+/e7Z8gvubct29frCOIXQhbvHgxNlbMzzyyw0d2XLlyJS0tDdtv5jJefPFFXMRXvjZETzLXhR179uwpUqQITnYYj0RPqu9fJtjjfPfddxG2uYgpU6bgofLVV1/5V24yOQ8cOFBNryI/EyZMSCbncNzr8ZwFovzmN7/BbpahDiaK2P7EjFELvbRgx6lTp4oXL96yZcvr169roSqCBOOw19anTx9zwN26dcND5cKFC7rUguMOH8cdyHrXrl0YiI4cORJNHJ+hQ4fmyZNH7LPF0mq1YMe//uu/PvTQQ9gO16XLqThHjRqFKcCMGTNwfhfHw7BzgX/ihJtGtSA7/GUHct+6dStUxolpHEv/9a9/LX+lAxucUYemAg+n/+d//mesgTRILbkfYon07bffxpgUjxZsDNWtWxfnJrBPJDlmS2xkh+/s0Kg1MFQqQAUSU8D79Y7E4uBdVIAK6KUA2aGXX4yWCkhRgOyQ4gTjoAJ6KUB26OUXo6UCUhQgO6Q4wTiogF4KkB16+cVoqYAUBcgOKU4wDiqglwJkh15+MVoqIEUBskOKE4yDCuilANmhl1+MlgpIUYDskOIE46ACeilAdujlF6OlAlIUIDukOME4qIBeCpAdevnFaKmAFAXIDilOMA4qoJcCZIdefjFaKiBFAbJDihOMgwropQDZoZdfjJYKSFGA7JDiBOOgAnopQHbo5RejpQJSFCA7pDjBOKiAXgqQHXr5xWipgBQFyA4pTjAOKqCXAmSHXn4xWiogRQGyQ4oTjIMK6KUA2aGXX4yWCkhRgOyQ4gTjoAJ6KUB26OUXo6UCUhQgO6Q4wTiogF4KkB16+cVoqYAUBcgOKU4wDiqglwJkh15+MVoqIEUBskOKE4yDCuilANmhl1+MlgpIUcBHdqxbty6L6TNhwgSj0seOHevbt2/ZsmVz5sxZtGjRVq1arV271vi2du3axn358uXzVaomTZqgrAULFqhSrl+/roresWNHrHIrVqyIBHPmzFEJLDn4Gq2ozG38NceZWjezZs1q72alSpXMbqIBqFvsP+PGjTMajEq/fft2G3eMbO2TmXPYsmXLoEGDatSoUaRIkRw5cpQqVQotbeLEiT/99FNkQU2bNkUM8+fPD7KFuGbH0KFDCxUq5CTEWG0L3RI5RHozdepUlW2Qra1NmzaIZPXq1Qmzw5KDE2Ukp0neX0vtUuumjuw4f/58u3btYsELT9O3337bInLbtm2RftWqVUE2LdfsaNiwoSt2NGvWzFyfW7duVa1aFfV84oknAJEbN26cPn365ZdfxpW0tLTdu3cbic+ePYuLfo87OnXqhFI2btyYMDssOQRpnh9lJelvrJBS5WbC7HA4QHA4oHCYDOpdunSpWrVqaJPZs2cfMGDA5s2bgZKbN2+im2B0XL9+fcWUV1555d69e4banTt3xsX09HQ/mkSsPN2xAz0/V65cybBj+fLlqGSJEiWgkTmmXr164Xr37t0DZke/fv1Q7q5duxJmhyWHIM3zvKzk/U0tO5QXO3fuNNzUjh09e/ZEFfLnzx8VBODF888/jwSo12effWao3b9/f3PFPW8YUTO8jx0HDx5E6OXKlQMgChYsWKtWrfHjxwN76s5u3bpZxlGYleD6rFmzcL1Pnz6nTp1q3bo1RgqjRo3CdTVnsYw7evTogYsvvPCCJRr0XiXZnTt31FfBPKlGjhyJco8cOZIwOyw5BGNbYqUE4C8CU5MU8/JWwG4ePnxYU3Z8++23GH1DvQ8//DCWxXfv3sWYXfUsY+iBHocrRsUTax5u78pgB2YQefPmjZxlVahQ4dy5czbsmDdvHu7CqAlLnur2gQMHxmIH1n6QIHJiBkUAHXx16NAhV+xQGdp8kMC5KAmslTrPPLUpg/E3SXZ47qZe44433ngDAZcpU+b27ds2rQUbC6pemMiksFFlsKNDhw6Ipn379gcOHLh27drly5fXr1+v9hTGjBmjQty3bx/+aZmzLF68GBdr1qxZvHhxLA5j3Hv16tVY7MiTJw8SI5/IOlevXt2MFYfjDs9bm8KQ832WFJrnquhg/CU7opricL3j6aefRtvDFqR5LSMyQyx/qH60aNEiV23A28QZ7Khbt27kiACLl9hD7dKliw07li5dqvrbsmXLzMFFzllAU5USs5vIajz22GP4ythncsgOb+Uwxh32Yxl8a+zRehuAf7kF4K9N8Kly08mGq9lNJ3u09erVM/q2Qyg4TKaWQidPnhy3GeBRjZTTpk2Lm9K/BBns6Nq1K6KBLvv3749VXtRxh2IHZhzYNLFnB8Yyqk9G3aNu0aIFvpo9e7arOYu30oSYHQH4S3bEUsAhO9QOy8yZM+O26kaNGiElliPtRyhx80kmQQY7MHdSMxR8MBEYNmzYypUrMXkx527DjipVqljiiBx3YB3UZtzRuHFjOeOO8M1ZAvBXLDts3Ix1Niwle7TYIEcXeP311+N2aTXBjzzoEfdGDxPct8+CfdNJkyapsNSnQIECYBsWMuPOWRo0aBCXHUiglmP37t0bWQd17mPNmjUSxh3hYwdUDcDfWE0ztXMWXdihzgphicB+NIElxdy5cyPlihUrPGSB26yin+/AegTmDtg3yZYtG0LEGCQuO4BMJ+yoU6dO1DpjKQQbw/gK21Su2MG1UreWI71//ibJDs/d1GufZcaMGQi4WLFilvF+ZM9CMnzUBmiqPnHOhmHagv6M4/RAHUK0mbM4ZIc6vWPAyKj2pk2bcB2qGcR1+KTyvLWpAVcoxx2Rjcxzf8mOqAo4XO84c+aMeoLaLJeig6i3V5588skULnagmj+zA6dKsNzQsmVLS82xQqEqo3aSFTtwgsucTK2VOmQH9n2RGK/3WJD51FNP4Tpe/jFydsgOb6Eb1vMdgfmbJDs8d1OvcQeqP3z4cHQEdLqo8xHAYsSIEUiAE+vbtm3zVi63uf3MDoyR8MxHTDg8umfPHhzQwB7y0aNHVU1Kliypjnviinos4wUQJLh48SIuumIHlk4effRR5ID1ESxHYWvmxIkTQ4YMwRVsWeP9WrLDrYVO0gfmL4JJ4blSixTG016X9Q7ED6fUTi2oh864YcMGHOzGqB8P74ULF6LXqA44ffp0J777miZjzrJkyRJ1HtbywUWc/lJBoA4KMeqj3kR2xQ6kxzMQMLKUgoUVnE81V5XjDm+ND8zfcLAjsiOYr6BTqPlC3PMgo0ePdpjMmIDgKEPHjh1jBYCTmULOFt233oGXSnr37o2dWhzWwC9r4MUWvH5iYTbOw1auXBnfli5deu7cuQmwA7dgXod3vcuXL498HnjgARxmjRyAkR3esgO5BeMv2WHu9gmwQ/m+devWwYMHY9OzcOHC6vc7mjdvPmXKlAsXLnjeMBLL0N17tK7KiPounPMcUsIO5+ExpSt/6Wb4GgzZET5PA6oR2RGQ0FKLITukOiM+LrJDvEX+Bug7O4y5n+UHHWyqFeSv1PmrbqhzF/h7paHWW1zlyA5xlugSENmhi1M+xekjO3yKmNlSASogQQGyQ4ILjIEK6KcA2aGfZ4yYCkhQgOyQ4AJjoAL6KUB26OcZI6YCEhQgOyS4wBiogH4KkB36ecaIqYAEBcgOCS4wBiqgnwJkh36eMWIqIEEBskOCC4yBCuinANmhn2eMmApIUIDskOACY6AC+ilAdujnGSOmAhIUIDskuMAYqIB+CpAd+nnGiKmABAXIDgkuMAYqoJ8CZId+njFiKiBBAbJDgguMgQropwDZoZ9njJgKSFCA7JDgAmOgAvopQHbo5xkjpgISFCA7JLjAGKiAfgqQHfp5xoipgAQFyA4JLjAGKqCfAmSHfp4xYiogQQGyQ4ILjIEK6KcA2aGfZ4yYCkhQgOyQ4AJjoAL6KUB26OcZI6YCEhQgOyS4wBiogH4KkB36ecaIqYAEBcgOCS4wBiqgnwJkh36eMWIqIEEBskOCC4yBCuingI/sWLduXRbTZ8KECRZ5pk+fnj17diQ5dOiQ+avatWsb9+XLl89XUZs0aYKyFixYoEq5fv26OeZYf48bN06lt9zua6jSMrfx99ixY3379i1btmzOnDmLFi3aqlWrtWvX2sefWtOzZs0Kr7dv3x4ryEqVKiHBnDlzjHaibrH/GO0E7SpuEar5OUlmDnLLli2DBg2qUaNGkSJFcuTIUapUKbTJiRMn/vTTT5F1adq0KQKeP3++J23JNTuGDh1aqFAhJ2XbtK3Lly8/++yzhu4pZEebNm0QxurVqxNjh+V2J7IIT5O8vzt27EALiexUU6dOtal7kOyIND1ujxXIjvPnz7dr1y4WvPDQffvtt+/du2fWvG3btki/atUqTxqha3Y0bNjQFTuaNWtmCXT//v0PP/xwWloaxh25cuWKHHeo9GfPnsVXfo87OnXqhFI2btxoYQc6gBN9Lbc7uUV4miT9vXXrVtWqVSHpE088AQ1v3Lhx+vTpl19+GVfg+O7du+2rnyrTE2aHzVDFXFOHAwqHyZDzpUuXqlWrBlUxch8wYMDmzZuBkps3b0JtDKIbNGigmPLKK6+Y8dG5c2dcTE9P96QRumMHWgZ6e5LseOaZZ4oXL75hwwZUIOXs6NevH9TctWtXYuyw3O6JJSnMJHl/ly9fDj1LlCiBxm2uSK9evXC9e/fuEtihXNu5c6dhunbs6NmzJ6qQP3/+qCAAL55//nlUCp/PPvvM0Lx///7miifZ0u5jx8GDBxFTuXLl0KULFixYq1at8ePHg2eqjG7dulkGSJiV4PqsWbNwvU+fPqdOnWrdujVGCqNGjcJ1NWeJHHcgz+PHj6s8U86OkSNHIsgjR44kxg7L7Uma4fftAfjbo0cP6PnCCy9Y6gI6q7Z+584d9ZWapFhWwYIZdyjXDh8+rCk7vv32WwziUIUPP/wwVpu5e/cuhn6qAxpDD3RM0MSoeJLtLYMdGGHmzZs3cvpUoUKFc+fO2bBj3rx5uAvDISyJqdsHDhxoww5zxMmzA6tEkTGbryCBc42MtVKHcxbnOac8ZTD+KjsiZ9Roynio4CtjbSsZdtSsWTOu6Zapvo3+TmYKsdY7UjJnefPNN4GAMmXK3L5926ZeWJ9W4ylMZPxofhns6NChA4pp3779gQMHrl27huXM9evXV6xYERfHjBmjyt63bx/+aZmzLF68GBdhJ2YiWPXFuPfq1atkhx9uJZNnMP7myZMHjQHtJDLU6tWrm7FCdkRK5IRiuOvpp5+GktjJsucjlj+UHYsWLUqm5cS6N4MddevWjXxiYHELe2xdunSxYcfSpUvVQ2DZsmXmYmLNWbwdd3gripM92nr16nlbaDC5BeAvHoOqJWD2Glmpxx57DF/ZbxAGM2exxGb0WPuxDL51tUeLdmL0bYdQcJisfv36CGby5Mlxx1ZqgDZt2rS4KRNohBns6Nq1K4pBhbEPEiujqOMOxQ6MSLGoTnYk4EEwtwTgL8aqqvtFPVzQokULfDV79myb+pIdcVdtoZ7aYZk5c2bcltOoUSOkxAqjv+zApEjNUPDBrHXYsGErV67E5MUcnw07qlSpYqmJ1uOO8K13BOAv1kFtxh2NGzcWPu5I4GxYStY7sI8OJV9//fW4RFDzxMiDHnGh4yTBffss2FebNGmSKk99ChQoAGhhoSvunAVbymSHE8VTmCYAf9Vy+969eyOrqc59rFmzRuy4Qxd2qFNFWEmwZwdWHnPnzo2UK1as8KPVRT/fgfkqxpbYN8mWLRvKxhgkLjvAwpSwg/ssCTQL//ytU6dO1MaKpRC1p4b9xeTZkcn3WWbMmIGpTbFixSzTgsgOqI54qH1Szz9xzoZh2gK/cU4eDEPZNnMWssNzbwLI0HN/1bEr42FjVGHTpk24juZu/6h0uN6Rydlx5swZBWKb5VLorN5eefLJJ+NObRJraT+zA8dFMB1t2bKlJRfMYFWUaotYsQMnfMzJ1FppqtiRWLVj3RXW8x2B+Yt9fTQGvJdledY99dRTuI63tuz9csgOz02Pu0Ip6nwHqj98+HDoib4ZdT4CWIwYMQKVwon1bdu2eSuXkdvP7MDgB88ERIPDo3v27MEBDWwOHz16VIVYsmRJdRwQV9Q6CF4AQYKLFy/iItnhkzceZhuYv1gae/TRR9FCsP6F5QNsvZ04cWLIkCG4grMGeL/WqFQy5zs8VAZZOdkZlcYOGKp2agEI9Fm84YHz35gc4Bm/cOFCtZiKD14Z82nQAd0y5ixLlixRB10tH1zE6S/lFoJTiFEf9YqxK3aokYvNxzhWlKpHkH146lto4m3zDSC3YPxFRTDGwcPGIiMWznD+2FzNcLDDvrWgnaiuG/cIyejRo5EybjIcKjdYgB3xjh07xgoABziN0yg+ta771jvw0kHv3r2xU4vDGvjlBbzYgtcTLLuVOOhauXJlfFu6dOm5c+eSHT4Z40e2AfirwsaEHO/yly9fHu3kgQcewGHlyJEz2WHu9gmwQ0m9devWwYMHY2+0cOHC6vc7mjdvPmXKlAsXLvjRhMx5unuP1lU0Ts532GSYknGHqwpm8sRJ+htVPZquUaMiOzQyS1aoZIcsPwKPhuwIXPKwFEh2hMXJBOvhOzuMSV3k75XGCjnIn59LUDbe9j+/z5KAv1HFo+natSmyQzvLpAQc97esXQVKdriSS0JiH9khoXqMgQpQAZ8UIDt8EpbZUoGQK0B2hNxgVo8K+KQA2eGTsMyWCoRcAbIj5AazelTAJwXIDp+EZbZUIOQKkB0hN5jVowI+KUB2+CQss6UCIVeA7Ai5waweFfBJAbLDJ2GZLRUIuQJkR8gNZvWogE8KkB0+CctsqUDIFSA7Qm4wq0cFfFKA7PBJWGZLBUKuANkRcoNZPSrgkwJkh0/CMlsqEHIFyI6QG8zqUQGfFCA7fBKW2VKBkCtAdoTcYFaPCvikANnhk7DMlgqEXAGyI+QGs3pUwCcFyA6fhGW2VCDkCpAdITeY1aMCPilAdvgkLLOlAiFXgOwIucGsHhXwSQGywydhmS0VCLkCZEfIDWb1qIBPCpAdPgnLbKlAyBUgO0JuMKtHBXxSgOzwSVhmSwVCrgDZEXKDWT0q4JMCZIdPwjJbKhByBciOkBvM6lEBnxQgO3wSltlSgZAr4CM71q1bl8X0mTBhgqHl119/3aNHj9KlS+fIkaNAgQINGjSYPn36zZs3VYLatWsb9+XLl89XB5o0aYKyFixYoEq5fv26KnrHjh025Vru8jVCsZnb+GuJ+caNG+aWYPl7zpw5KTc9a9asiGr79u2x1K5UqRISqFBVO1G32H/GjRtnSW9ThDlb+2TmILds2TJo0KAaNWoUKVIEvalUqVJonBMnTvzpp58i69K0aVMEPH/+fE8alWt2DB06tFChQk7KjtW25s6di0pGiv74449fu3Yt4GbUpk0bRLJ69WpX7LDc5UQNXdIk729kTc+cOSOKHZGm68iO8+fPt2vXLpaweOi+/fbb9+7dM9vRtm1bpF+1apUnrdE1Oxo2bOiKHc2aNTMHevTo0Vy5cqEC8G/nzp1Xr149derUpEmT0tLScHHKlClG4rNnz+KK3+OOTp06oZSNGze6YoflLk+cEJJJkv5GrcWhQ4cgMoaZceuYKtMTZofDAYIxTvFq3HHp0qVq1apB1ezZsw8YMGDz5s1ACUbup0+fxiAaA3nFlFdeecWMj86dO+Nienp6XCOcJHDHjlu3bqHnJ8OOsWPHIvpatWohK3N8w4cPx/XGjRsHzI5+/fqh3F27drlih+UuJ0JrkSZ5f6NW869//asyPa4IwbBD2YdHl/MJRaw5S6rY0bNnT1Qhf/78UUEAXjz//PMAIj6fffaZIXv//v3NFY9rh32C+9hx8OBBxFSuXDkAomDBgjB7/Pjx4JnKolu3bpYBEmYluD5r1ixc79OnD0YQrVu3xkhh1KhRuK7mLJZxx6ZNm7C0sX79ektYy5YtQ+Ly5csHzI6RI0ei3CNHjrhih+WuJD0I7PYA/EVd1HKVeXkLduMK5uFxaxoMO5R9hw8f1pQd3377rRqnf/jhh7EkvXv37hNPPKE6oDH0QMcETYyKx7XDKTuwOpg3b97I6VOFChXOnTtnw4558+bhLgyHWrVqpW4fOHBgLHbEiubdd9+1NC+HzQirRJExm68ggXONHK6VOs9QTsrA/I1kx6JFi+DIU089FVcNh6bXrFkzrumWqb5N0U4mFKLGHW+++SYQUKZMmdu3b9vUa+3atWouholMXOUTSJAx7ujQoQOKad++/YEDB7BmefnyZTwuKlasiItjxoxRWe/btw//tMxZFi9ejIuws3jx4lj1xbgXqxiu2HHnzp06deogkz//+c9uxx1kh0PXA/M3kh0ffPABzO3YseMbb7yBb/PkyYOn1COPPII+oFbH3Zqeydnx9NNPQ8++ffva8xHLH5AaKcFuh43EVbIMdtStWxfFWNZgd+/eXbRo0S5dutiwY+nSpeohgHmHueyoc5aowY0ePRq3169fHwMtt83IVW3jJg7xuCOF/oIRsYYJIMjFixdTbrqTDVdUwdUebb169Yy+7WRoAxEcJkNPQTCTJ0+OO7ZSkJ02bVrclHG7RmSCDHZ07doVxaDC+/fvj5VR1HGHYgeWObCN75YdgMWwYcNwOxZZsJOXwCMogTrbD19VK7c/3+FtocHklhJ/VdVeeuklSJozZ85XX331m2++QQ/Bzgv+xhVcx0kfskMp4JAdaodl5syZcVtOo0aNkBKrlv6yA5MiNUPBBxMBdOmVK1dahpQ27KhSpYqlJnHHHVeuXMEcGMVVr1795MmTltsdTn3jyucqQYjHHcH7ayj//fff79mzJ9JitciVLVs2taCGT6pM12uPFvvo0O3111+PSwT0LKSMPOjhqlPESnzfPgs2jXHUQpWnPjj0CWgZUwkbdmBL2RU7Tpw4oSbGLVu2/Pvf/x4ZX6qaUVjHHVA4SH+dtE4sjamhx6effkp2OB93qONFWEmwZwfkzZ07N1KuWLHCiR1u00Q/34Hd1tmzZ2PfBM8ElI0xiMrXhh1goXN2ABxYJUbOgwcPxkJp1KAdsoNrpW4tR3q//XUeEuaqaAbLly93xY5MvlY6Y8YMDJSKFStmmRZEdkB1xMMY1jn3xUnKOGfDMG2BtThCro5yecKOH3/8sXLlysgWp+5tQiQ7nPiXZBo//I0MCeNWTFsspwGRDE1fHTLeunUr2eF83IGVQaWbzXIphiTq7ZUnn3wy7tQmsVb0MztwXARnOjF9sOSCQYGKUm0RK3bgNJs5mVordTjuQDVatGiB9C+++KJ9xA7ZkVi1Y90V1vWOwPyNKqx6VGB1w/Lta6+9pubFxip7qkzXa70DMqpz2OibUecj6GUjRoxApXBifdu2bd72ESO3n9mBJwCGQIgGh0exrIUDGtgcxrsnKsSSJUuqmQWuqOUAvACCBGp3zRU7Pv74Y9yOE6v2x1qQbaqaUSjXOwLzF8ZFnu/AGVOoiqUNPCePHz8OQOMg7+9//3u0bFzHhovRHFNlunbsgKFqpxaRo89u2LAB578xssMzfuHChWoxFR+c4fZp0AHLMuYsS5YsUQddLR9cxOkv5S6CU4hRH/WKsSt24GXZyCLMV7CH52r46i1TjXFHrCBxFMXbEgPLLRh/o7IDDx71Bmfk55lnnjE/RbRjh31jRt9RXTfuO/toV0gZNxkOlRsswOlNHLeLFQAOcBqnUXxqY/etd+CVsN69e2OnFoc18JTAOhb23i0nHXDQFUNQfIvXIvE2vVt24PwI2eGTl3GzDcDfqOzAReAD7z3hlZbChQtjuIEjyHj1Cc8ky1OR7LA/pWZmh7IbS0XYcMDeKIRVv9/RvHlzvI9+4cKFuO0hyQTu3qN1VVjc8x32uaWkGbmqYCZPnKS/UdWj6Ro1KrJDI7NkhUp2yPIj8GjIjsAlD0uBZEdYnEywHr6zw1jdMP+gg32wQf5eaYKy8bb/+X2WBPyNKh5N165NkR3aWSYlYOe/dewkYrLDiUqi0vjIDlH1ZDBUgAp4qwDZ4a2ezI0KZBYFyI7M4jTrSQW8VYDs8FZP5kYFMosCZEdmcZr1pALeKkB2eKsnc6MCmUUBsiOzOM16UgFvFSA7vNWTuVGBzKIA2ZFZnGY9qYC3CpAd3urJ3KhAZlGA7MgsTrOeVMBbBcgOb/VkblQgsyhAdmQWp1lPKuCtAmSHt3oyNyqQWRQgOzKL06wnFfBWAbLDWz2ZGxXILAqQHZnFadaTCnirANnhrZ7MjQpkFgXIjsziNOtJBbxVgOzwVk/mRgUyiwJkR2ZxmvWkAt4qQHZ4qydzowKZRQGyI7M4zXpSAW8VIDu81ZO5UYHMogDZkVmcZj2pgLcKkB3e6sncqEBmUYDsyCxOs55UwFsFyA5v9WRuVCCzKEB2ZBanWU8q4K0CZIe3ejI3KpBZFCA7MovTrCcV8FYBssNbPZkbFcgsCpAdmcVp1pMKeKsA2eGtnsyNCmQWBXxkx7p167KYPhMmTDBE3bx587PPPvvggw9mz569UKFCjRo1mjZt2o0bN1SC2rVrG/fly5fPVyuaNGmCshYsWKBKuX79uip6x44dNuVa7vI1QrGZ2/gbNWbJpmfNmhWmb9++PZbalSpVQoI5c+YY7UTdYv8ZN26cJb1NEUjZtGlTZDh//nyxppsDc82OoUOHorc7qVustjVp0qSoijdo0ODKlSsBs6NNmzYIZvXq1a7YYbnLiRq6pEne36g1FW66EHa0bdsWrXHVqlVatBbX7GjYsKErdjRr1swsxJdffql8Gjhw4KFDh/CcP3HiBBpWWloaLv7xj380Ep89exZX/B53dOrUCaVs3LjRFTssd2nhtMMgk/Q3ainyTU+YHfbjCEMNtPO4RSBx586d0RrT09MdmpXaZO7YcevWrVy5ciXDjl69ekGdjh07WqqNxx2uP/bYYwGzo1+/fih3165drthhuSu1FnpYevL+Rg1Gpuk7d+50PqGINWfxlh39+/dHazQC89BZP7K6jx0HDx7s2bNnuXLlAIiCBQvWqlVr/Pjx58+fVwV369bNMtfArATXZ82ahet9+vQ5depU69atMVIYNWoUrqs5i2Xc8fnnn7///vt79+61VObjjz9GYkxbAmbHyJEjUe6RI0dcscNylx/G+JFnAP4ibLVcZV7ekmn64cOHpbEDHQfSGYH50QY8zDODHVgdzJs3b+RKRIUKFc6dO2fDjnnz5uEuDLdatWqlbsd8JBY7YoX+3HPP4cYhQ4a4ZUeNGjXs16uQwLleDtdKnWcoJ2Vg/kayw3PTa9asGdf0e/fuORTfyYQimHGHw4CFJMtgR4cOHeBH+/btDxw4cO3atcuXL69fv75ixYq4OGbMGBXuvn378E/LnGXx4sW4CDuLFy++ZcsWjHuvXr3qkB1IuXv3bjVUK1OmzA8//EB2+NQyAvM3LjuSN53s8KmRuMo2gx1169aNXONFxy5atGiXLl1s2LF06VL1EFi2bJm57KhzFiPBd999Zzw6SpUqNWjQICyOmm8PZq3UIlaIxx0B+xu1FYo13cmGK5qrqz3aevXqGWMfJ0MbV/1WQuIMdnTt2hXqoML79++PFVnUcYdiB5Y5jAMa6nbn7MiRIweOeHzyySdkh39tImB/47JDlOlkRwINL4Mdp0+fVjMUfLBGMGzYsJUrV2LyYs7Uhh1VqlSxFG/PDpUY+WOKhK3Z/Pnzo9zZs2e7nbMkUGebW0I87kiJv1GlFmh63A1UrndEWnnfPsulS5dw1KJ69erGbKJAgQLYarl7927cOYt5i8TJuCMqaIoUKWLQinMWb7GI3FLob9S6qKeLBNPJjgQaW/TzHdhtxRAA+ybZsmWDuxiDxGUHzhQlMO4w34IlWJRlbJg7ZAf3WRJwPSX+Ro0zMdO5VpqA6Z7fEudsGKYt6M+YmmL3BGXbzFmcsOPOnTtjx47FSZCjR49aanL79m2UgrKMQ3Vkh+dmR2borb9RA/bDdLIjgLYRt4if2YHjKI0bN27ZsqXlBhiPc2Lo0pgtG+zA2oQ5mVordcIO3KVcNzZ9jXyWL1+uJkrGNq1DdsStoasEYV3vCMzfqGrLN51zFlfdRCX+mR1YZShWrBi6Lg6P7tmzBzvwN2/exOhg+PDhuFiyZElABKlxRfVwvACCBBcvXsRFV+yYMmUKbodVwAcaNMoFlT744APsBOM6jqUadSA7ErAz1i2B+YsAIs93yDed7EigsWXMWZYsWaJeSLN8cBGnv1TWmLkoxKiPesXYFTvAILx9H1kKrpQvX/7kyZNC2BE1QlwcPXp0AipLuCUYf6OyQ77pCbMjVjtR19F31BEP43yHTbtyfhBWQnPKGHeoaPBKWO/evbFTi8MaOXPmxIstPXr0sPySxdq1aytXroxvS5cuPXfuXLfsUAUBRr/5zW8eeOAB/H4HZkCPPPLIa6+9pkYxZId/LSMYf2OdK5VsOtmRQKtz9x6tqwKcnO+wyTAlcxZXFczkiZP0N6p6NF2jRkV2aGSWrFDJDll+BB4N2RG45GEpkOwIi5MJ1sN3dhiLQ+YfdLAPNsjfK01QNt72P+8rJeBvVPFounZtiuzQzjIpAbv9rWM+MKQ451EcPrLDowiZDRWgAhIVIDskusKYqIB8BcgO+R4xQiogUQGyQ6IrjIkKyFeA7JDvESOkAhIVIDskusKYqIB8BcgO+R4xQiogUQGyQ6IrjIkKyFeA7JDvESOkAhIVIDskusKYqIB8BcgO+R4xQiogUQGyQ6IrjIkKyFeA7JDvESOkAhIVIDskusKYqIB8BcgO+R4xQiogUQGyQ6IrjIkKyFeA7JDvESOkAhIVIDskusKYqIB8BcgO+R4xQiogUQGyQ6IrjIkKyFeA7JDvESOkAhIVIDskusKYqIB8BcgO+R4xQiogUQGyQ6IrjIkKyFeA7JDvESOkAhIVIDskusKYqIB8BcgO+R4xQiogUQGyQ6IrjIkKyFeA7JDvESOkAhIVIDskusKYqIB8BcgO+R4xQiogUQGyQ6IrjIkKyFeA7JDvESOkAhIVIDskusKYqIB8BXxkx7p167KYPhMmTIgqxxdffJEtWzYkXLp0qUpQu3Zt4758+fL5KmKTJk1Q1oIFCyJL2bJly6BBg2rUqFGkSJEcOXKUKlUKiSdOnPjTTz9FJrbJx9f4U5i5jb/Hjh3r27dv2bJlc+bMWbRo0VatWq1du9ZhqF9//XWPHj1Kly4NzQsUKNCgQYPp06ffvHkzatu4d++ew2wTSNa0aVNz27h+/XrWrFlxZfv27bFyq1SpEhL8+c9/VgmMW8wdIfLvcePGqYqoEufPn59AtMHf4podQ4cOLVSokJNAnbDj2rVrlStXVmqmhB1t2rRB0atXrzbX6Pz5808++WQsv4GzGTNmWBSImo8TlaSlSd7fHTt2oIVEqjd16tS4lZ07dy6QEXnv448/jqYS+VzxlR1t27ZFJKtWrbKAwD92WEqMK1dqE7hmR8OGDV2xo1mzZjY1HDFiBOx58MEHzexQ6c+ePYuLfo87OnXqhFI2btxoBHnp0qWqVaviYvbs2QcMGLB582agBM+906dPY3hSv3591bJfffVVc70i80mtrwmXnqS/t27dUuo98cQTgMiNGzeg28svv4wraWlpu3fvtgns6NGjuXLlQkqAeOfOnVevXj116tSkSZNwIy5OmTLFuBdtA0MAtA1f2aE8TU9PT54dNrgxC9K5c2dziQmbGMyN7tiBlgF3vWIHJgWYrbRr165Dhw6pYke/fv1Q9K5duwy5f/e73+FK/vz5zUAxvkVjxZMZCdB2N2zYYFyPzCcY/7wtJXl/ly9fDnFKlCgBBJtj69WrF653797dJuCxY8ciTa1atRCGOdnw4cNxvXHjxgGzQ3kKigXGjv79+5tL9NZcz3O7jx0HDx7s2bNnuXLlAIiCBQvCxfHjx+Opq0rt1q2bZTCJWQmuz5o1C9f79OmDp0Tr1q3xNBg1ahSuqzlLrHEHniqYHGIy/MMPP6SQHSNHjkSQR44cUXX89ttv1eLLn/70p1ha3717F0NoS9Us+XjukycZBuAvliqgzAsvvGAJGHRWRL5z5476Sq1qmVfBNm3ahKWN9evXW+5dtmwZUpYvXz5gdihPDx8+HBg70HHMJXpiun+ZZLADI8y8efNa6IB/VqhQ4dy5czbsmDdvHpJhuIUlMXX7wIED47JDPUwWLVqElMmwA2uZkTGbryCBc/neeOMN3FumTBmjiUe9Fyt/qojvv//eeeapTRmMv8oOY43AqDKAi4cKvjp06FAsdsTS591338WNWI12y46aNWvGbRvOZz3JrJU6nLOktoW4LT2DHaoDt2/f/sCBA1iXunz5Mp4AFStWxMUxY8aofPft24d/WuYsixcvxkX4VLx4cUxDMODEmMKeHVhEwOMduFHZymHHU089hbpgj8BeRyx/5M6dGylRd7eKpyp9MP7myZMHsqCdRFazevXqZqxEjjuiKgOI16lTBzcamxdI5nC9g+zwtbFlsKNu3bqRTwwsbmFa0aVLFxt2YH9E0R1jS3OsseYsarby0EMPXbhwIXl2eKvOo48+iopg9BE3W/WAxRg7bkohCQLw9/bt26olYPYaWevHHnsMX7ndgBw9ejTuwhI1Ri5uxx3eKu9ww9WMOSe31KtXz/nYx9saJZlbBju6du2KaqMm+/fvj5Vp1HGHYgdGpFhUd8KOYcOGIb1aK5HGDrVH8M4778SVFfsRSPnaa6/FTSkkQQD+Yqyq2BH1CEyLFi3w1ezZsx0KAliopoIFuDNnzpjvcjjucFiQw2ROQKCq7+p8RxjYgb00NUPBBw9V2LZy5Uq1qW58bNhRpUoViwdRxx2YrWCH4rnnnjMnTmbO4tB4h8lwEgnVxwGwuOmrVauGlJEHPeLemKoEAfiL+YXNuAMbJc7HHVeuXFHzR8x0Tp48aREttexI4HxHyNc7YA/21bCdrual6oODfdhqMYaLNuxAr4vLDsxWgCf0OrQMmezo2LEjam3M0WL1c7WXiZTAa6pYkEC5fvuLkNRy+969eyPDU2O6NWvWxI38xIkTajWkZcuWf//73yPTkx1xNQwgQfTzHZivYmyJfRO1YYkxiArFhh0Yw8dlx3vvvWdQKdYf2AlW+Tg8G+btPgvGEQisWLFiGKDaqK+GVBhAGRvYAVjlYRE++YsI1brmihUrLNFiKUTRFrvg9hUBOLDPhZSDBw+OtdvlkB1cK/WwzURmFedsGJ6rcBHHhNVxnSTZgVPJwtmBeTVewUCQNsulWNlSb6/g3Lqv3gSQubf+ImB1nsp42BhVwNkNBWX7dcEff/xRvaNgP20kOwJoG3GL+JkdOACD6SiGiJYbAH71uMBs2WAHTviYk6m1UifjjljRyFnvQIRqfQ61jjofQdNXJ1NwYl2jSWxg/mJfH+Lg7UF1Jsj4qMULvFto0yKhrVpPffHFF+0brkN2xG39rhLwfIdFrp/ZgTVRPBNgG6YMe/bswcIEjjDg/QLVT0qWLKlGj7iiBg44r40EFy9exMWQsQNSqJ1aTEmgBg6eY2KCYRfouXDhQrWYis9bb73lquWlNnFg/mJpTKkHocBWbL1hDjJkyBBcwdEPvF9r6BB5vuPjjz9GMpxmxgSH7Ehtg3FSesacZcmSJeqlI8sHF40TUOhCCjHqg3eHw8cO1Ah7jb/97W8jpVBXcDTuo48+ciKuqDSB+YsxDh42FvWwcIbzx2ZBItmhTvrbfL755huVg3bjDvt6oYvpeMTjvvUOvHTQu3dvbIXgsAam/dhXx+sJOMtsthzHsTEjxbf4hQW8MR1Kdqj6bt26Fct12HUqXLiw+v2O5s2b421O40ibKDQ4CSYwf7FshDcG8QYK2skDDzyAw8rbtm2zRBjJDpx0IDuc+Cgkjbv3aF0Fbf8uXNysHO6zxM2HCXxSIEl/k4kqJeOOZAIO5b1kRyhtDaJSZEcQKgsug+wQbI7s0MgO2f74Hp3v7DBmsLF+rzSyikH+XqnvAoe3ACe/Kel57S1tQ8clRs81SVWGZEeqlNe+XLJDewuTq4CP7EguMN5NBaiAaAXIDtH2MDgqIFYBskOsNQyMCohWgOwQbQ+DowJiFSA7xFrDwKiAaAXIDtH2MDgqIFYBskOsNQyMCohWgOwQbQ+DowJiFSA7xFrDwKiAaAXIDtH2MDgqIFYBskOsNQyMCohWgOwQbQ+DowJiFSA7xFrDwKiAaAXIDtH2MDgqIFYBskOsNQyMCohWgOwQbQ+DowJiFSA7xFrDwKiAaAXIDtH2MDgqIFYBskOsNQyMCohWgOwQbQ+DowJiFSA7xFrDwKiAaAXIDtH2MDgqIFYBskOsNQyMCohWgOwQbQ+DowJiFSA7xFrDwKiAaAXIDtH2MDgqIFYBskOsNQyMCohWgOwQbQ+DowJiFSA7xFrDwKiAaAXIDtH2MDgqIFYBskOsNQyMCohWgOwQbQ+DowJiFSA7xFrDwKiAaAXIDtH2MDgqIFYBskOsNdIDW7duXRbTZ8KECZaIp0+fnj17diQ5dOhQYpX54osvsmXLhhyWLl2qcqhdu7ZRZr58+e7du5dYzk7uatq0KcpasGCBSnz9+vWsWbOaqxz173HjxlnSb9++3aY4I1v7ZCqY+fPnO4k8mDRkRzA6a1PK0KFDCxUq5CRcG3Zcvnz52WefNbpWYuy4du1a5cqVVSYpYUfbtm1R9KpVqySwwxKME4P8TkN2+K2wZvk3bNjQFTuaNWtmqeH+/fsffvjhtLQ0jDty5cqV8LhjxIgRuPfBBx80s0OVdfbsWQwB/B53dOrUCUWnp6e7GkcYajgcUDhM1rlzZ3MwEloV2SHBBSkx3Lp1C709SXY888wzxYsX37BhA2qVMDu2bNmC2Uq7du06dOiQKnb069cPRe/cuVMCO/r3728ORkKLITskuBBQDAcPHuzZs2e5cuXQpQsWLFirVq3x48efP39eFd+tWzfLBB6zElyfNWsWrvfp0+fUqVOtW7fG037UqFG4ruYskeMO5Hn8+HGVpw071MpF5CoJ7rp69WqlSpWKFi36ww8/pJAdI0eORISHDx+WwA5obg4moBZjWwzZIcGFIGLYsWNH3rx5I5f3KlSocO7cORt2zJs3D3dhzNyqVSt1+8CBA23YYa5MYuwYPnw4Slm0aBGySoYdNWvWtF/arFGjhvPVVoeTC5/mLEE0EZdlkB0uBdM2ueqE7du3P3DgAJYhsZy5fv36ihUr4uKYMWNUtfbt24d/WuYsixcvxkX0Q8xEMJXAvAbjAv/YsXnzZsxWgCoVEtkhtsWRHWKt8TiwunXrmncNVO67d+/G1KBLly427MAeh3p6L1u2zBxTrDmLw3FH1Oqp2cpDDz104cKF5NnhrYJO9mjr1atnDGQcjlMcJvO2Lp7kRnZ4IqMGmXTt2hX9H40b+yCxwo067lDswDLHjRs3/GbHsGHDUJZaZyE7hLcqskO4QZ6Fd/r0aTVDwQfzfPTSlStXYvJiLsCGHVWqVLGE4vm4A7MV7Lw+99xz5oKSmbN4pt1/Z+R2gOAwvcNk3tbFk9zIDk9k1COTS5cuTZo0qXr16sYKYoECBbAtcvfu3bhzlgYNGvjKDsxWgLZq1apduXKF7NCiPZEdWtjkcZDYbZ09ezb2TdSJb4xB4rIDZ8Z8Zcd7771nvyeCb7GLrGJweDaM+ywet5v7syM7fJVXeuaYtqBP5siRA7sniNVmzuI3O6ZOnUp2SG8uZIdeDnkSLQ44NW7cuGXLlpbc7ty5o45gYDXEYEf+/PnNydRaqd/siFVNrnd40gD8yITjDj9UFZcn1kSLFSumhv179uzB4sLNmzePHj2qTmGVLFkSEEHQuKIe/hs3bkSCixcv4qJP7LA5V8r1DnENKFpAZIcWNnkQ5JIlS/B+WuS8ABdx+ksVgJmLQoz6qNfJXbFDzXpsPkigytKXHfYVhJ7qiEfc8yCjR49GyrjJcBrd+eFXDxqK4yzIDsdS6Z9w165dvXv3xnYGDmvkzJkTL7b06NEDZ9XNNVu7di3efMe3pUuXnjt3LtlhiBO3kyumkB36dxTWwGcFnJzv8CkEh/ssPpXObJUCHHewJSSoANmRoHBhuY3sCIuTgdeD7AhcclkFkh2y/NAomri/V+pHXYL8vVI/4g9TnmRHmNwMtC5kR6ByyyuM7JDnCSOiAjooQHbo4BJjpALyFCA75HnCiKiADgqQHTq4xBipgDwFyA55njAiKqCDAmSHDi4xRiogTwGyQ54njIgK6KAA2aGDS4yRCshTgOyQ5wkjogI6KEB26OASY6QC8hQgO+R5woiogA4KkB06uMQYqYA8BcgOeZ4wIiqggwJkhw4uMUYqIE8BskOeJ4yICuigANmhg0uMkQrIU4DskOcJI6ICOihAdujgEmOkAvIUIDvkecKIqIAOCpAdOrjEGKmAPAXIDnmeMCIqoIMCZIcOLjFGKiBPAbJDnieMiArooADZoYNLjJEKyFOA7JDnCSOiAjooQHbo4BJjpALyFCA75HnCiKiADgqQHTq4xBipgDwFyA55njAiKqCDAmSHDi4xRiogTwGyQ54njIgK6KAA2aGDS4yRCshTgOyQ5wkjogI6KEB26OASY6QC8hQgO+R5woiogA4KkB06uMQYqYA8BcgOeZ4wIiqggwJkhw4uMUYqIE8BskOeJ4yICuigANmhg0uMkQrIU4DskOcJI6ICOihAdujgEmOkAvIUIDvkecKIqIAOCpAdOrjEGKmAPAXIDnmeMCIqoIMCZIcOLjFGKiBPAbJDnieMiArooADZoYNLjJEKyFOA7JDnCSOiAjooQHbo4BJjpALyFCA75HnCiKiADgqQHTq4xBipgDwFyA55njAiKqCDAmSHDi4xRiogTwGyQ54njIgK6KAA2aGDS4yRCshTgOyQ5wkjogI6KEB26OASY6QC8hQgO+R5woiogA4KkB06uMQYqYA8BcgOeZ4wIiqggwJkhw4uMUYqIE8BskOeJ4yICuigANmhg0uMkQrIU4DskOcJI6ICOihAdujgEmOkAvIUIDvkecKIqIAOCpAdOrjEGKmAPAXIDnmeMCIqoIMCZIcOLjFGKiBPgf8P8gg2EC3wyrEAAAAASUVORK5CYII=)"
      ]
    },
    {
      "cell_type": "code",
      "metadata": {
        "colab": {
          "base_uri": "https://localhost:8080/"
        },
        "id": "Tc9LFRbiqNSt",
        "outputId": "75229b41-4864-4ae3-df02-8ac323fbd31e"
      },
      "source": [
        "# Given String  \n",
        "str = \"welcomepython\"  \n",
        "# Start Oth index to end  \n",
        "print(str[0:])  \n",
        "# Starts 1th index to 4th index  \n",
        "print(str[1:5])  \n",
        "# Starts 2nd index to 3rd index  \n",
        "print(str[2:4])  \n",
        "# Starts 0th to 2nd index  \n",
        "print(str[:3])  \n",
        "#Starts 4th to 6th index  \n",
        "print(str[4:7])  "
      ],
      "execution_count": null,
      "outputs": [
        {
          "output_type": "stream",
          "text": [
            "welcomepython\n",
            "elco\n",
            "lc\n",
            "wel\n",
            "ome\n"
          ],
          "name": "stdout"
        }
      ]
    },
    {
      "cell_type": "code",
      "metadata": {
        "colab": {
          "base_uri": "https://localhost:8080/"
        },
        "id": "uYx_LTe6_HXE",
        "outputId": "cee835b0-1936-4e09-e2b3-256cb654a696"
      },
      "source": [
        "test = \"Python Programming\"\n",
        "print(\"String: \", test)\n",
        " \n",
        "# First one character\n",
        "first_character = test[:1]\n",
        "print(\"First Character: \", first_character)\n",
        " \n",
        "# Last one character\n",
        "last_character = test[-1:]\n",
        "print(\"Last Character: \", last_character)\n",
        " \n",
        "# Everything except the first one character\n",
        "except_first = test[1:]\n",
        "print(\"Except First Char.: \", except_first)\n",
        " \n",
        "# Everything except the last one character\n",
        "except_last = test[:-1]\n",
        "print(\"Except First Char.: \", except_last)\n",
        " \n",
        "# Everything between first and last two character\n",
        "between_two = test[2:-2]\n",
        "print(\"Between two character: \", between_two)\n",
        " \n",
        "# Skip one character\n",
        "skip_one = test[0:18:2]  # [start:stop:step]\n",
        "print(\"Skip one character: \", skip_one)\n",
        " \n",
        "# Reverse String\n",
        "reverse_str = test[::-1]\n",
        "print(\"Reverse String: \", reverse_str)"
      ],
      "execution_count": null,
      "outputs": [
        {
          "output_type": "stream",
          "text": [
            "String:  Python Programming\n",
            "First Character:  P\n",
            "Last Character:  g\n",
            "Except First Char.:  ython Programming\n",
            "Except First Char.:  Python Programmin\n",
            "Between two character:  thon Programmi\n",
            "Skip one character:  Pto rgamn\n",
            "Reverse String:  gnimmargorP nohtyP\n"
          ],
          "name": "stdout"
        }
      ]
    },
    {
      "cell_type": "markdown",
      "metadata": {
        "id": "-ItRzlfZqm8D"
      },
      "source": [
        "![strings-indexing-and-splitting3.png](data:image/png;base64,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)"
      ]
    },
    {
      "cell_type": "code",
      "metadata": {
        "colab": {
          "base_uri": "https://localhost:8080/"
        },
        "id": "6M9KqtPKQ37c",
        "outputId": "f72dcf9c-ec08-4e0b-ca08-958730dfb2a6"
      },
      "source": [
        "py='hello'\n",
        "py[2:4])\n"
      ],
      "execution_count": null,
      "outputs": [
        {
          "output_type": "stream",
          "text": [
            "ll\n"
          ],
          "name": "stdout"
        }
      ]
    },
    {
      "cell_type": "code",
      "metadata": {
        "colab": {
          "base_uri": "https://localhost:8080/"
        },
        "id": "ahhzDTpWqprC",
        "outputId": "f90914a6-99d4-4435-9aff-d66151374e67"
      },
      "source": [
        "str = 'JAVATPOINT'  \n",
        "print(str[-1])  \n",
        "print(str[-3])  \n",
        "print(str[-2:])  \n",
        "print(str[-4:-1])  \n",
        "print(str[-7:-2])  \n",
        "# Reversing the given string  \n",
        "print(str[::-1])  \n",
        "#print(str[-12])  "
      ],
      "execution_count": null,
      "outputs": [
        {
          "output_type": "stream",
          "text": [
            "T\n",
            "I\n",
            "NT\n",
            "OIN\n",
            "ATPOI\n",
            "TNIOPTAVAJ\n"
          ],
          "name": "stdout"
        }
      ]
    },
    {
      "cell_type": "code",
      "metadata": {
        "colab": {
          "base_uri": "https://localhost:8080/"
        },
        "id": "2BYpOsDIRnT5",
        "outputId": "f0040951-c414-4002-bf0c-8685bb9e0171"
      },
      "source": [
        "py=\"coders\"\n",
        "print(py[::1])\n",
        "print(py[::-1])"
      ],
      "execution_count": null,
      "outputs": [
        {
          "output_type": "stream",
          "text": [
            "coders\n",
            "sredoc\n"
          ],
          "name": "stdout"
        }
      ]
    },
    {
      "cell_type": "code",
      "metadata": {
        "colab": {
          "base_uri": "https://localhost:8080/"
        },
        "id": "qnykKO2k-zL3",
        "outputId": "42160a4b-a22f-4b42-a393-b351fcf44cd2"
      },
      "source": [
        "test_string = 'Python Programming'\n",
        " \n",
        "string_reversed = test_string[-1::-1]\n",
        "print(string_reversed)\n",
        " \n",
        "string_reversed = test_string[::-1]\n",
        "print(string_reversed)"
      ],
      "execution_count": null,
      "outputs": [
        {
          "output_type": "stream",
          "text": [
            "gnimmargorP nohtyP\n",
            "gnimmargorP nohtyP\n"
          ],
          "name": "stdout"
        }
      ]
    },
    {
      "cell_type": "markdown",
      "metadata": {
        "id": "Nlq-7FPVrd3n"
      },
      "source": [
        "# **Looping Through a String**\n",
        "Since strings are arrays, we can loop through the characters in a string, with a for loop."
      ]
    },
    {
      "cell_type": "code",
      "metadata": {
        "colab": {
          "base_uri": "https://localhost:8080/"
        },
        "id": "5i3374-4rh1_",
        "outputId": "57c4da87-3805-4e51-c242-2c15de206d36"
      },
      "source": [
        "for x in \"banana\":\n",
        "  print(x)"
      ],
      "execution_count": null,
      "outputs": [
        {
          "output_type": "stream",
          "text": [
            "b\n",
            "a\n",
            "n\n",
            "a\n",
            "n\n",
            "a\n"
          ],
          "name": "stdout"
        }
      ]
    },
    {
      "cell_type": "code",
      "metadata": {
        "colab": {
          "base_uri": "https://localhost:8080/",
          "height": 207
        },
        "id": "SnaTb1PmZuNA",
        "outputId": "2d433005-38d8-4e69-ffdd-87e29f12922e"
      },
      "source": [
        "a =\"Hello\"\n",
        "for a in range(a[5]):\n",
        "    print(i)\n"
      ],
      "execution_count": null,
      "outputs": [
        {
          "output_type": "error",
          "ename": "IndexError",
          "evalue": "ignored",
          "traceback": [
            "\u001b[0;31m---------------------------------------------------------------------------\u001b[0m",
            "\u001b[0;31mIndexError\u001b[0m                                Traceback (most recent call last)",
            "\u001b[0;32m<ipython-input-92-7cfb2acab817>\u001b[0m in \u001b[0;36m<module>\u001b[0;34m()\u001b[0m\n\u001b[1;32m      1\u001b[0m \u001b[0ma\u001b[0m \u001b[0;34m=\u001b[0m\u001b[0;34m\"Hello\"\u001b[0m\u001b[0;34m\u001b[0m\u001b[0;34m\u001b[0m\u001b[0m\n\u001b[0;32m----> 2\u001b[0;31m \u001b[0;32mfor\u001b[0m \u001b[0ma\u001b[0m \u001b[0;32min\u001b[0m \u001b[0mrange\u001b[0m\u001b[0;34m(\u001b[0m\u001b[0ma\u001b[0m\u001b[0;34m[\u001b[0m\u001b[0;36m5\u001b[0m\u001b[0;34m]\u001b[0m\u001b[0;34m)\u001b[0m\u001b[0;34m:\u001b[0m\u001b[0;34m\u001b[0m\u001b[0;34m\u001b[0m\u001b[0m\n\u001b[0m\u001b[1;32m      3\u001b[0m     \u001b[0mprint\u001b[0m\u001b[0;34m(\u001b[0m\u001b[0mi\u001b[0m\u001b[0;34m)\u001b[0m\u001b[0;34m\u001b[0m\u001b[0;34m\u001b[0m\u001b[0m\n",
            "\u001b[0;31mIndexError\u001b[0m: string index out of range"
          ]
        }
      ]
    },
    {
      "cell_type": "markdown",
      "metadata": {
        "id": "Kt8Kyz4PrpiW"
      },
      "source": [
        "String Length\n",
        "\n",
        "The len() function returns the length of a string:"
      ]
    },
    {
      "cell_type": "code",
      "metadata": {
        "colab": {
          "base_uri": "https://localhost:8080/"
        },
        "id": "AokitDADrow3",
        "outputId": "fc1223eb-214d-462c-9408-748962a79b25"
      },
      "source": [
        "a = \"Hello, World!\"\n",
        "len(a)"
      ],
      "execution_count": null,
      "outputs": [
        {
          "output_type": "execute_result",
          "data": {
            "text/plain": [
              "13"
            ]
          },
          "metadata": {},
          "execution_count": 63
        }
      ]
    },
    {
      "cell_type": "code",
      "metadata": {
        "colab": {
          "base_uri": "https://localhost:8080/"
        },
        "id": "oBkb_Y4JTBYJ",
        "outputId": "6b65e018-83e7-498a-f8db-058ef18032a8"
      },
      "source": [
        "py=\"coderskjdlklfhlkhflhDLFFHLJHlkhfdljkhFDKJ\"\n",
        "print(len(py))"
      ],
      "execution_count": null,
      "outputs": [
        {
          "output_type": "stream",
          "text": [
            "41\n"
          ],
          "name": "stdout"
        }
      ]
    },
    {
      "cell_type": "markdown",
      "metadata": {
        "id": "BxFA42fJr3iR"
      },
      "source": [
        "**Check String**\n",
        "To check if a certain phrase or character is present in a string, we can use the keyword **in.**"
      ]
    },
    {
      "cell_type": "code",
      "metadata": {
        "colab": {
          "base_uri": "https://localhost:8080/"
        },
        "id": "Y3RVsfoGr96g",
        "outputId": "a9947ba0-b047-47bc-ebda-cb8f0b8dec11"
      },
      "source": [
        "txt = \"The best things in life are free!\"\n",
        "print(\"free\" in txt)"
      ],
      "execution_count": null,
      "outputs": [
        {
          "output_type": "stream",
          "text": [
            "True\n"
          ],
          "name": "stdout"
        }
      ]
    },
    {
      "cell_type": "markdown",
      "metadata": {
        "id": "V3FnQ9b5q3EG"
      },
      "source": [
        "# **Reassigning Strings**\n",
        "Updating the content of the strings is as easy as assigning it to a new string. The string object doesn't support item assignment i.e., A string can only be replaced with new string since its content cannot be partially replaced. Strings are immutable in Python."
      ]
    },
    {
      "cell_type": "code",
      "metadata": {
        "colab": {
          "base_uri": "https://localhost:8080/",
          "height": 207
        },
        "id": "npaZ4NhSq6Gm",
        "outputId": "95d8d30b-40ae-419b-ea91-8eea20ae0a08"
      },
      "source": [
        "str = \"HELLO\"    \n",
        "str[0] = \"h\"    \n",
        "print(str)    "
      ],
      "execution_count": null,
      "outputs": [
        {
          "output_type": "error",
          "ename": "TypeError",
          "evalue": "ignored",
          "traceback": [
            "\u001b[0;31m---------------------------------------------------------------------------\u001b[0m",
            "\u001b[0;31mTypeError\u001b[0m                                 Traceback (most recent call last)",
            "\u001b[0;32m<ipython-input-64-8507b020b978>\u001b[0m in \u001b[0;36m<module>\u001b[0;34m()\u001b[0m\n\u001b[1;32m      1\u001b[0m \u001b[0mstr\u001b[0m \u001b[0;34m=\u001b[0m \u001b[0;34m\"HELLO\"\u001b[0m\u001b[0;34m\u001b[0m\u001b[0;34m\u001b[0m\u001b[0m\n\u001b[0;32m----> 2\u001b[0;31m \u001b[0mstr\u001b[0m\u001b[0;34m[\u001b[0m\u001b[0;36m0\u001b[0m\u001b[0;34m]\u001b[0m \u001b[0;34m=\u001b[0m \u001b[0;34m\"h\"\u001b[0m\u001b[0;34m\u001b[0m\u001b[0;34m\u001b[0m\u001b[0m\n\u001b[0m\u001b[1;32m      3\u001b[0m \u001b[0mprint\u001b[0m\u001b[0;34m(\u001b[0m\u001b[0mstr\u001b[0m\u001b[0;34m)\u001b[0m\u001b[0;34m\u001b[0m\u001b[0;34m\u001b[0m\u001b[0m\n",
            "\u001b[0;31mTypeError\u001b[0m: 'str' object does not support item assignment"
          ]
        }
      ]
    },
    {
      "cell_type": "code",
      "metadata": {
        "colab": {
          "base_uri": "https://localhost:8080/"
        },
        "id": "i9UbLijKq_db",
        "outputId": "db605564-0a1b-4894-aae4-669e57780d42"
      },
      "source": [
        "str = \"HELLO\"    \n",
        "print(str)    \n",
        "str = \"hello\"    \n",
        "print(str)    "
      ],
      "execution_count": null,
      "outputs": [
        {
          "output_type": "stream",
          "text": [
            "HELLO\n",
            "hello\n"
          ],
          "name": "stdout"
        }
      ]
    },
    {
      "cell_type": "markdown",
      "metadata": {
        "id": "0wmPW5FztIkX"
      },
      "source": [
        "# **Slicing**\n",
        "You can return a range of characters by using the slice syntax.\n",
        "\n",
        "Specify the start index and the end index, separated by a colon, to return a part of the string."
      ]
    },
    {
      "cell_type": "code",
      "metadata": {
        "colab": {
          "base_uri": "https://localhost:8080/"
        },
        "id": "9DCeRw-ztK8b",
        "outputId": "05ace4f7-45fb-42da-dc49-7d201df7153c"
      },
      "source": [
        "b = \"Hello, World!\"\n",
        "print(b[2:5])"
      ],
      "execution_count": null,
      "outputs": [
        {
          "output_type": "stream",
          "text": [
            "llo\n"
          ],
          "name": "stdout"
        }
      ]
    },
    {
      "cell_type": "code",
      "metadata": {
        "id": "408iJTW30w7w"
      },
      "source": [
        ""
      ],
      "execution_count": null,
      "outputs": []
    },
    {
      "cell_type": "code",
      "metadata": {
        "colab": {
          "base_uri": "https://localhost:8080/"
        },
        "id": "vTALBqDQtSYS",
        "outputId": "f4a63e64-4e9d-4036-8ba2-fc27d2d7a8c8"
      },
      "source": [
        "b = \"Hello, World!\"\n",
        "print(b[:5])"
      ],
      "execution_count": null,
      "outputs": [
        {
          "output_type": "stream",
          "text": [
            "Hello\n"
          ],
          "name": "stdout"
        }
      ]
    },
    {
      "cell_type": "code",
      "metadata": {
        "colab": {
          "base_uri": "https://localhost:8080/"
        },
        "id": "BfaAfbiqtsyx",
        "outputId": "1e442095-42d7-437d-dc91-7830bb7fe263"
      },
      "source": [
        "b = \"Hello, World!\"\n",
        "print(b[2:])"
      ],
      "execution_count": null,
      "outputs": [
        {
          "output_type": "stream",
          "text": [
            "llo, World!\n"
          ],
          "name": "stdout"
        }
      ]
    },
    {
      "cell_type": "markdown",
      "metadata": {
        "id": "vXn5Vp4MtyjW"
      },
      "source": [
        "# **Negative Indexing**\n",
        "Use negative indexes to start the slice from the end of the string:"
      ]
    },
    {
      "cell_type": "code",
      "metadata": {
        "colab": {
          "base_uri": "https://localhost:8080/"
        },
        "id": "X7wsZc9St29X",
        "outputId": "aebe7885-7ae6-44f1-b262-73ce18099344"
      },
      "source": [
        "#Get the characters:\n",
        "#From: \"o\" in \"World!\" (position -5) ,To, but not included: \"d\" in \"World!\" (position -2):\n",
        "\n",
        "b = \"Hello, World!\"\n",
        "print(b[-5:-2])"
      ],
      "execution_count": null,
      "outputs": [
        {
          "output_type": "stream",
          "text": [
            "orl\n"
          ],
          "name": "stdout"
        }
      ]
    },
    {
      "cell_type": "markdown",
      "metadata": {
        "id": "Zi3qxgkYsGdi"
      },
      "source": [
        "# **Check if NOT**\n",
        "To check if a certain phrase or character is NOT present in a string, we can use the keyword not in."
      ]
    },
    {
      "cell_type": "code",
      "metadata": {
        "colab": {
          "base_uri": "https://localhost:8080/"
        },
        "id": "iBV6DRhzsIXQ",
        "outputId": "97dde2a0-70f2-492d-c785-df3c57f3c303"
      },
      "source": [
        "txt = \"The best things in life are free!\"\n",
        "print(\"best\" in txt)"
      ],
      "execution_count": null,
      "outputs": [
        {
          "output_type": "stream",
          "text": [
            "True\n"
          ],
          "name": "stdout"
        }
      ]
    },
    {
      "cell_type": "markdown",
      "metadata": {
        "id": "_nIDHMhduISy"
      },
      "source": [
        "# **Python - Modify Strings**"
      ]
    },
    {
      "cell_type": "code",
      "metadata": {
        "colab": {
          "base_uri": "https://localhost:8080/"
        },
        "id": "cXoOytpVuOeH",
        "outputId": "990c6b91-f4ae-4cfc-cd36-2f8b12b5607b"
      },
      "source": [
        "#The upper() method returns the string in upper case:\n",
        "\n",
        "a = \"Hello, World!\"\n",
        "print(a.upper())"
      ],
      "execution_count": null,
      "outputs": [
        {
          "output_type": "stream",
          "text": [
            "HELLO, WORLD!\n"
          ],
          "name": "stdout"
        }
      ]
    },
    {
      "cell_type": "code",
      "metadata": {
        "colab": {
          "base_uri": "https://localhost:8080/",
          "height": 189
        },
        "id": "kveOdY9MU5td",
        "outputId": "a3c7a3e3-2dec-43e8-a6ce-60f2756400fc"
      },
      "source": [
        "num=10\n",
        "print(num.upper())"
      ],
      "execution_count": null,
      "outputs": [
        {
          "output_type": "error",
          "ename": "AttributeError",
          "evalue": "ignored",
          "traceback": [
            "\u001b[0;31m---------------------------------------------------------------------------\u001b[0m",
            "\u001b[0;31mAttributeError\u001b[0m                            Traceback (most recent call last)",
            "\u001b[0;32m<ipython-input-72-1fe6751e1326>\u001b[0m in \u001b[0;36m<module>\u001b[0;34m()\u001b[0m\n\u001b[1;32m      1\u001b[0m \u001b[0mnum\u001b[0m\u001b[0;34m=\u001b[0m\u001b[0;36m10\u001b[0m\u001b[0;34m\u001b[0m\u001b[0;34m\u001b[0m\u001b[0m\n\u001b[0;32m----> 2\u001b[0;31m \u001b[0mprint\u001b[0m\u001b[0;34m(\u001b[0m\u001b[0mnum\u001b[0m\u001b[0;34m.\u001b[0m\u001b[0mupper\u001b[0m\u001b[0;34m(\u001b[0m\u001b[0;34m)\u001b[0m\u001b[0;34m)\u001b[0m\u001b[0;34m\u001b[0m\u001b[0;34m\u001b[0m\u001b[0m\n\u001b[0m",
            "\u001b[0;31mAttributeError\u001b[0m: 'int' object has no attribute 'upper'"
          ]
        }
      ]
    },
    {
      "cell_type": "code",
      "metadata": {
        "colab": {
          "base_uri": "https://localhost:8080/"
        },
        "id": "bnlIn5otuUih",
        "outputId": "6c158230-cdb9-445c-a309-a17d257c748e"
      },
      "source": [
        "#The lower() method returns the string in lower case:\n",
        "\n",
        "a = \"Hello, World!\"\n",
        "print(a.lower())"
      ],
      "execution_count": null,
      "outputs": [
        {
          "output_type": "stream",
          "text": [
            "hello, world!\n"
          ],
          "name": "stdout"
        }
      ]
    },
    {
      "cell_type": "code",
      "metadata": {
        "colab": {
          "base_uri": "https://localhost:8080/"
        },
        "id": "88qooNbyubTB",
        "outputId": "1c38a80b-12f6-4b2d-d445-96361d14a337"
      },
      "source": [
        "#The strip() method removes any whitespace from the beginning or the end:\n",
        "\n",
        "a = \" Hello, World! \"\n",
        "print(a.strip()) # returns \"Hello, World!\""
      ],
      "execution_count": null,
      "outputs": [
        {
          "output_type": "stream",
          "text": [
            "Hello, World!\n"
          ],
          "name": "stdout"
        }
      ]
    },
    {
      "cell_type": "code",
      "metadata": {
        "colab": {
          "base_uri": "https://localhost:8080/"
        },
        "id": "30q__ybouhHd",
        "outputId": "018641b7-a8bb-4cf9-c5e8-f126198d396d"
      },
      "source": [
        "#The replace() method replaces a string with another string:\n",
        "\n",
        "a = \"Hello, World!\"\n",
        "print(a.replace(\"hello\", \"Anand\"))"
      ],
      "execution_count": null,
      "outputs": [
        {
          "output_type": "stream",
          "text": [
            "Hello, World!\n"
          ],
          "name": "stdout"
        }
      ]
    },
    {
      "cell_type": "code",
      "metadata": {
        "colab": {
          "base_uri": "https://localhost:8080/"
        },
        "id": "74XydGPJuvNz",
        "outputId": "3a455ee3-f0f9-4f32-dd79-16caf69862e4"
      },
      "source": [
        "#The split() method splits the string into substrings if it finds instances of the separator:\n",
        "\n",
        "a = \"Hello#World!#hello\"\n",
        "print(a.split('#')) # returns ['Hello', ' World!']"
      ],
      "execution_count": null,
      "outputs": [
        {
          "output_type": "stream",
          "text": [
            "['Hello', 'World!', 'hello']\n"
          ],
          "name": "stdout"
        }
      ]
    },
    {
      "cell_type": "markdown",
      "metadata": {
        "id": "q2GY3MRi0gpY"
      },
      "source": [
        "# **Python - String Concatenation**"
      ]
    },
    {
      "cell_type": "code",
      "metadata": {
        "colab": {
          "base_uri": "https://localhost:8080/"
        },
        "id": "czclPiRg0iYT",
        "outputId": "0fb92296-d066-4b3b-8a2d-9ddffebd373e"
      },
      "source": [
        "#Merge variable a with variable b into variable c:\n",
        "\n",
        "a = \"Hello\"\n",
        "b = \"World\"\n",
        "c = a + b\n",
        "print(c)"
      ],
      "execution_count": null,
      "outputs": [
        {
          "output_type": "stream",
          "text": [
            "HelloWorld\n"
          ],
          "name": "stdout"
        }
      ]
    },
    {
      "cell_type": "code",
      "metadata": {
        "id": "B8Ufk1yi0pnR"
      },
      "source": [
        "#To add a space between them, add a \" \":\n",
        "\n",
        "a = \"Hello\"\n",
        "b = \"World\"\n",
        "c = a + \" \" + b\n",
        "print(c)"
      ],
      "execution_count": null,
      "outputs": []
    },
    {
      "cell_type": "markdown",
      "metadata": {
        "id": "uotO0V100uMQ"
      },
      "source": [
        "# **Python - Format - Strings**"
      ]
    },
    {
      "cell_type": "code",
      "metadata": {
        "colab": {
          "base_uri": "https://localhost:8080/",
          "height": 207
        },
        "id": "QlJ1TBBk0yni",
        "outputId": "d2be2bb9-6abb-4609-ead2-a0008f792cef"
      },
      "source": [
        "age = 36\n",
        "txt = \"My name is John, I am \" + age\n",
        "print(txt)"
      ],
      "execution_count": null,
      "outputs": [
        {
          "output_type": "error",
          "ename": "TypeError",
          "evalue": "ignored",
          "traceback": [
            "\u001b[0;31m---------------------------------------------------------------------------\u001b[0m",
            "\u001b[0;31mTypeError\u001b[0m                                 Traceback (most recent call last)",
            "\u001b[0;32m<ipython-input-82-4d1b227cff41>\u001b[0m in \u001b[0;36m<module>\u001b[0;34m()\u001b[0m\n\u001b[1;32m      1\u001b[0m \u001b[0mage\u001b[0m \u001b[0;34m=\u001b[0m \u001b[0;36m36\u001b[0m\u001b[0;34m\u001b[0m\u001b[0;34m\u001b[0m\u001b[0m\n\u001b[0;32m----> 2\u001b[0;31m \u001b[0mtxt\u001b[0m \u001b[0;34m=\u001b[0m \u001b[0;34m\"My name is John, I am \"\u001b[0m \u001b[0;34m+\u001b[0m \u001b[0mage\u001b[0m\u001b[0;34m\u001b[0m\u001b[0;34m\u001b[0m\u001b[0m\n\u001b[0m\u001b[1;32m      3\u001b[0m \u001b[0mprint\u001b[0m\u001b[0;34m(\u001b[0m\u001b[0mtxt\u001b[0m\u001b[0;34m)\u001b[0m\u001b[0;34m\u001b[0m\u001b[0;34m\u001b[0m\u001b[0m\n",
            "\u001b[0;31mTypeError\u001b[0m: can only concatenate str (not \"int\") to str"
          ]
        }
      ]
    },
    {
      "cell_type": "markdown",
      "metadata": {
        "id": "vVCGVFrt08_w"
      },
      "source": [
        "# **String format()**\n",
        "The format() method allows you to format selected parts of a string.\n",
        "\n",
        "Sometimes there are parts of a text that you do not control, maybe they come from a database, or user input?\n",
        "\n",
        "To control such values, add placeholders (curly brackets {}) in the text, and run the values through the format() method:"
      ]
    },
    {
      "cell_type": "code",
      "metadata": {
        "colab": {
          "base_uri": "https://localhost:8080/"
        },
        "id": "5TZ9Ym4U0-TQ",
        "outputId": "a64d9ec7-64c7-49ca-e643-a67fc04e5613"
      },
      "source": [
        "#Use the format() method to insert numbers into strings:\n",
        "\n",
        "age = 36\n",
        "txt = \"My name is John, and I am {}\"\n",
        "print(txt.format(age))"
      ],
      "execution_count": null,
      "outputs": [
        {
          "output_type": "stream",
          "text": [
            "My name is John, and I am 36\n"
          ],
          "name": "stdout"
        }
      ]
    },
    {
      "cell_type": "code",
      "metadata": {
        "colab": {
          "base_uri": "https://localhost:8080/"
        },
        "id": "7_oXYi2p1uTp",
        "outputId": "584cbd22-35d5-45a3-a1cf-159f8cdaf3bc"
      },
      "source": [
        "\n",
        "txt = \"For only {price:.2f} dollars!\"\n",
        "print(txt.format(price=50.0986))"
      ],
      "execution_count": null,
      "outputs": [
        {
          "output_type": "stream",
          "text": [
            "For only 50.10 dollars!\n"
          ],
          "name": "stdout"
        }
      ]
    },
    {
      "cell_type": "code",
      "metadata": {
        "colab": {
          "base_uri": "https://localhost:8080/"
        },
        "id": "9-efQKkS_7DN",
        "outputId": "0be0e172-09b1-4ae1-fac8-c1d2b602a36c"
      },
      "source": [
        "#To demonstrate, we insert the number 8 to set the available space for the value to 8 characters.\n",
        "\n",
        "#Use \"<\" to left-align the value:\n",
        "\n",
        "txt = \"We have {:<40} chickens.\"\n",
        "print(txt.format(49))\n"
      ],
      "execution_count": null,
      "outputs": [
        {
          "output_type": "stream",
          "text": [
            "We have 49                                       chickens.\n"
          ],
          "name": "stdout"
        }
      ]
    },
    {
      "cell_type": "code",
      "metadata": {
        "colab": {
          "base_uri": "https://localhost:8080/"
        },
        "id": "mcgQlJb1AGQq",
        "outputId": "64bc199b-9361-455f-968d-f9b26ab33e0c"
      },
      "source": [
        "#To demonstrate, we insert the number 8 to set the available space for the value to 8 characters.\n",
        "\n",
        "#Use \">\" to right-align the value:\n",
        "\n",
        "txt = \"We have {:>20} chickens.\"\n",
        "print(txt.format(49))"
      ],
      "execution_count": null,
      "outputs": [
        {
          "output_type": "stream",
          "text": [
            "We have 49 chickens.\n"
          ],
          "name": "stdout"
        }
      ]
    },
    {
      "cell_type": "code",
      "metadata": {
        "colab": {
          "base_uri": "https://localhost:8080/"
        },
        "id": "JqfJ3gv7AMTk",
        "outputId": "349c1529-2846-46c6-b082-00d94da85404"
      },
      "source": [
        "#To demonstrate, we insert the number 8 to set the available space for the value to 8 characters.\n",
        "\n",
        "#Use \"^\" to center-align the value:\n",
        "\n",
        "txt = \"We have {:^8} chickens.\"\n",
        "print(txt.format(49))\n"
      ],
      "execution_count": null,
      "outputs": [
        {
          "output_type": "stream",
          "text": [
            "We have    49    chickens.\n"
          ],
          "name": "stdout"
        }
      ]
    },
    {
      "cell_type": "code",
      "metadata": {
        "colab": {
          "base_uri": "https://localhost:8080/"
        },
        "id": "sfbwiVZ6AZV-",
        "outputId": "e3ee2865-0f7d-4a71-dd50-69b8c5b79ac1"
      },
      "source": [
        "#To demonstrate, we insert the number 8 to specify the available space for the value.\n",
        "\n",
        "#Use \"=\" to place the plus/minus sign at the left most position:\n",
        "\n",
        "txt = \"The temperature is {:=8} degrees celsius.\"\n",
        "\n",
        "print(txt.format(-5))"
      ],
      "execution_count": null,
      "outputs": [
        {
          "output_type": "stream",
          "text": [
            "The temperature is -      5 degrees celsius.\n"
          ],
          "name": "stdout"
        }
      ]
    },
    {
      "cell_type": "code",
      "metadata": {
        "colab": {
          "base_uri": "https://localhost:8080/"
        },
        "id": "O65PKSSLAkTS",
        "outputId": "a946ce55-6dc5-4b5f-a6c3-8efb7644c6a8"
      },
      "source": [
        "#Use \"+\" to always indicate if the number is positive or negative:\n",
        "\n",
        "txt = \"The temperature is between {:+} and {:+} degrees celsius.\"\n",
        "\n",
        "print(txt.format(-3, 7))\n"
      ],
      "execution_count": null,
      "outputs": [
        {
          "output_type": "stream",
          "text": [
            "The temperature is between -3 and +7 degrees celsius.\n"
          ],
          "name": "stdout"
        }
      ]
    },
    {
      "cell_type": "code",
      "metadata": {
        "id": "no1txnLxAvXC"
      },
      "source": [
        "#Use \" \" (a space) to insert a space before positive numbers and a minus sign before negative numbers:\n",
        "\n",
        "txt = \"The temperature is between {: } and {: } degrees celsius.\"\n",
        "\n",
        "print(txt.format(-3, 7))\n"
      ],
      "execution_count": null,
      "outputs": []
    },
    {
      "cell_type": "code",
      "metadata": {
        "colab": {
          "base_uri": "https://localhost:8080/"
        },
        "id": "j-6S4xyqA1kB",
        "outputId": "74e5a623-cb72-4e22-911a-e60030a3fc27"
      },
      "source": [
        "#Use \",\" to add a comma as a thousand separator:\n",
        "\n",
        "txt = \"The universe is {:,} years old.\"\n",
        "\n",
        "print(txt.format(13800000000))\n"
      ],
      "execution_count": null,
      "outputs": [
        {
          "output_type": "stream",
          "text": [
            "The universe is 13,800,000,000 years old.\n"
          ],
          "name": "stdout"
        }
      ]
    },
    {
      "cell_type": "code",
      "metadata": {
        "id": "GrFkk1qP2jTT"
      },
      "source": [
        "txt1 = \"My name is {fname}, I'm {age}\".format(fname = \"John\", age = 36)\n",
        "txt2 = \"My name is {0}, I'm {1}\".format(\"John\",36)\n",
        "txt3 = \"My name is {}, I'm {}\".format(\"John\",36)"
      ],
      "execution_count": null,
      "outputs": []
    },
    {
      "cell_type": "markdown",
      "metadata": {
        "id": "LVAi1aQJ1JuZ"
      },
      "source": [
        "The format() method takes unlimited number of arguments, and are placed into the respective placeholders:"
      ]
    },
    {
      "cell_type": "code",
      "metadata": {
        "colab": {
          "base_uri": "https://localhost:8080/"
        },
        "id": "-RAHR9AX1Klh",
        "outputId": "6f1064af-210c-48a8-b4eb-1547842dbbe3"
      },
      "source": [
        "quantity = 3\n",
        "itemno = 567\n",
        "price = 49.95\n",
        "myorder = \"I want {} pieces of item {} for {} dollars.\"\n",
        "print(myorder.format(quantity, itemno, price))"
      ],
      "execution_count": null,
      "outputs": [
        {
          "output_type": "stream",
          "text": [
            "I want 3 pieces of item 567 for 49.95 dollars.\n"
          ],
          "name": "stdout"
        }
      ]
    },
    {
      "cell_type": "markdown",
      "metadata": {
        "id": "blTGlCSG1TQi"
      },
      "source": [
        "You can use index numbers {0} to be sure the arguments are placed in the correct placeholders:"
      ]
    },
    {
      "cell_type": "code",
      "metadata": {
        "colab": {
          "base_uri": "https://localhost:8080/"
        },
        "id": "JhzmXWv61UX0",
        "outputId": "cfb83c6d-7503-4c4c-acf7-d6e0a6b40e1a"
      },
      "source": [
        "quantity = 3\n",
        "itemno = 567\n",
        "price = 49.95\n",
        "myorder = \"I want to pay {2} dollars for {0} pieces of item {1}.\"\n",
        "print(myorder.format(quantity, itemno, price))"
      ],
      "execution_count": null,
      "outputs": [
        {
          "output_type": "stream",
          "text": [
            "I want to pay 49.95 dollars for 3 pieces of item 567.\n"
          ],
          "name": "stdout"
        }
      ]
    },
    {
      "cell_type": "code",
      "metadata": {
        "colab": {
          "base_uri": "https://localhost:8080/"
        },
        "id": "PTrsFDr32YpA",
        "outputId": "102ee9df-4509-4429-cd4e-9b921dae961c"
      },
      "source": [
        "myorder = \"I have a {carname}, it is a {model}.\"\n",
        "print(myorder.format(carname = \"Ford\", model = \"Mustang\"))"
      ],
      "execution_count": null,
      "outputs": [
        {
          "output_type": "stream",
          "text": [
            "I have a Ford, it is a Mustang.\n"
          ],
          "name": "stdout"
        }
      ]
    },
    {
      "cell_type": "markdown",
      "metadata": {
        "id": "AovVBz49-ww_"
      },
      "source": [
        "# **Escape Character**\n",
        "\n",
        "To insert characters that are illegal in a string, use an escape character.\n",
        "\n",
        "An escape character is a backslash \\ followed by the character you want to insert.\n",
        "\n",
        "An example of an illegal character is a double quote inside a string that is surrounded by double quotes:"
      ]
    },
    {
      "cell_type": "code",
      "metadata": {
        "colab": {
          "base_uri": "https://localhost:8080/",
          "height": 135
        },
        "id": "zew_Wp05-wLR",
        "outputId": "5615a1d1-85ca-4ee9-fd0a-c66987bb5006"
      },
      "source": [
        "txt = \"We are the so-called \"Vikings\" from the north.\""
      ],
      "execution_count": null,
      "outputs": [
        {
          "output_type": "error",
          "ename": "SyntaxError",
          "evalue": "ignored",
          "traceback": [
            "\u001b[0;36m  File \u001b[0;32m\"<ipython-input-45-56cdf4283a8e>\"\u001b[0;36m, line \u001b[0;32m1\u001b[0m\n\u001b[0;31m    txt = \"We are the so-called \"Vikings\" from the north.\"\u001b[0m\n\u001b[0m                                       ^\u001b[0m\n\u001b[0;31mSyntaxError\u001b[0m\u001b[0;31m:\u001b[0m invalid syntax\n"
          ]
        }
      ]
    },
    {
      "cell_type": "code",
      "metadata": {
        "id": "BOKbzp1s-_lZ"
      },
      "source": [
        "#The escape character allows you to use double quotes when you normally would not be allowed:\n",
        "\n",
        "txt = \"We are the so-called \\\"Vikings\\\" from the north.\""
      ],
      "execution_count": null,
      "outputs": []
    },
    {
      "cell_type": "code",
      "metadata": {
        "colab": {
          "base_uri": "https://localhost:8080/"
        },
        "id": "ZMYJUxdF_I7H",
        "outputId": "7b009026-99aa-4029-e8c5-df731a161c64"
      },
      "source": [
        "txt = 'It\\'s alright.'\n",
        "print(txt) \n"
      ],
      "execution_count": null,
      "outputs": [
        {
          "output_type": "stream",
          "text": [
            "It's alright.\n"
          ],
          "name": "stdout"
        }
      ]
    },
    {
      "cell_type": "code",
      "metadata": {
        "colab": {
          "base_uri": "https://localhost:8080/"
        },
        "id": "bRES2ip9_Pfh",
        "outputId": "e02cc7a6-fd53-47ae-eab3-c4f5c3ba0dd1"
      },
      "source": [
        "txt = \"This will insert one \\\\ (backslash).\"\n",
        "print(txt) \n"
      ],
      "execution_count": null,
      "outputs": [
        {
          "output_type": "stream",
          "text": [
            "This will insert one \\ (backslash).\n"
          ],
          "name": "stdout"
        }
      ]
    },
    {
      "cell_type": "code",
      "metadata": {
        "colab": {
          "base_uri": "https://localhost:8080/"
        },
        "id": "RH_agiVP_UxX",
        "outputId": "2f2702a3-fcb8-4d43-dfda-45bf3b32450e"
      },
      "source": [
        "txt = \"Hello\\nWorld!\"\n",
        "print(txt) "
      ],
      "execution_count": null,
      "outputs": [
        {
          "output_type": "stream",
          "text": [
            "Hello\n",
            "World!\n"
          ],
          "name": "stdout"
        }
      ]
    },
    {
      "cell_type": "code",
      "metadata": {
        "colab": {
          "base_uri": "https://localhost:8080/"
        },
        "id": "r2zk4tzb_Zjq",
        "outputId": "853c1175-f3ed-4a54-c7c1-6c202c1faef8"
      },
      "source": [
        "txt = \"Hello\\rWorld!\"\n",
        "print(txt) \n"
      ],
      "execution_count": null,
      "outputs": [
        {
          "output_type": "stream",
          "text": [
            "Hello\rWorld!\n"
          ],
          "name": "stdout"
        }
      ]
    },
    {
      "cell_type": "code",
      "metadata": {
        "colab": {
          "base_uri": "https://localhost:8080/"
        },
        "id": "HSLCShq-_efT",
        "outputId": "f71d7c81-7beb-4d93-fce7-270f77a0928b"
      },
      "source": [
        "txt = \"Hello\\tWorld!\"\n",
        "print(txt) "
      ],
      "execution_count": null,
      "outputs": [
        {
          "output_type": "stream",
          "text": [
            "Hello\tWorld!\n"
          ],
          "name": "stdout"
        }
      ]
    },
    {
      "cell_type": "code",
      "metadata": {
        "colab": {
          "base_uri": "https://localhost:8080/"
        },
        "id": "xvX2kHQg_kn3",
        "outputId": "cf578e9d-6ba6-49ff-c220-b7817383454f"
      },
      "source": [
        "#A backslash followed by three integers will result in a octal value:\n",
        "txt = \"\\110\\145\\154\\154\\157\"\n",
        "print(txt) "
      ],
      "execution_count": null,
      "outputs": [
        {
          "output_type": "stream",
          "text": [
            "Hello\n"
          ],
          "name": "stdout"
        }
      ]
    },
    {
      "cell_type": "code",
      "metadata": {
        "colab": {
          "base_uri": "https://localhost:8080/"
        },
        "id": "C-_gS6Pp_pu8",
        "outputId": "fb755c5f-ced5-4073-a7ba-ad5fbde9a13a"
      },
      "source": [
        "txt = \"\\x48\\x65\\x6c\\x6c\\x6f\"\n",
        "print(txt) \n"
      ],
      "execution_count": null,
      "outputs": [
        {
          "output_type": "stream",
          "text": [
            "Hello\n"
          ],
          "name": "stdout"
        }
      ]
    },
    {
      "cell_type": "markdown",
      "metadata": {
        "id": "pFSTa8hNBOp0"
      },
      "source": [
        "Python String Formatting Using % Operator"
      ]
    },
    {
      "cell_type": "code",
      "metadata": {
        "colab": {
          "base_uri": "https://localhost:8080/"
        },
        "id": "cxTLLoL3BP35",
        "outputId": "d186925b-7f4c-4545-cd78-a0e219f245b3"
      },
      "source": [
        "Integer = 10;    \n",
        "Float = 1.290    \n",
        "String = \"Devansh\"    \n",
        "print(\"Hi I am Integer ... My value is %d\\nHi I am float ... My value is %f\\nHi I am string ... My value is %s\"%(Integer,Float,String))    "
      ],
      "execution_count": null,
      "outputs": [
        {
          "output_type": "stream",
          "text": [
            "Hi I am Integer ... My value is 10\n",
            "Hi I am float ... My value is 1.290000\n",
            "Hi I am string ... My value is Devansh\n"
          ],
          "name": "stdout"
        }
      ]
    },
    {
      "cell_type": "markdown",
      "metadata": {
        "id": "LAKfUsD5BDk7"
      },
      "source": [
        "# **String Methods**\n",
        "Python has a set of built-in methods that you can use on strings.\n",
        "\n",
        "Note: All string methods returns new values. They do not change the original string."
      ]
    },
    {
      "cell_type": "code",
      "metadata": {
        "colab": {
          "base_uri": "https://localhost:8080/"
        },
        "id": "7FVPy8sUBFxe",
        "outputId": "277487cb-5178-44ef-934e-9725aebd723d"
      },
      "source": [
        "#Example: Capitalize a word Copy\n",
        "a = 'hello world!' \n",
        "b = a.capitalize()        \n",
        "print('Original String:', a)  \n",
        "print('New String:', b)   "
      ],
      "execution_count": null,
      "outputs": [
        {
          "output_type": "stream",
          "text": [
            "Original String: hello world!\n",
            "New String: Hello world!\n"
          ],
          "name": "stdout"
        }
      ]
    },
    {
      "cell_type": "code",
      "metadata": {
        "colab": {
          "base_uri": "https://localhost:8080/"
        },
        "id": "BybRgWdiFXMu",
        "outputId": "520e3633-67b8-4034-87a1-f8d9753142e8"
      },
      "source": [
        "#Example 2: Non-alphabetic First Character\n",
        "string = \"+ is an operator.\"\n",
        "\n",
        "new_string = string.capitalize()\n",
        "\n",
        "print('Old String:', string)\n",
        "print('New String:', new_string)"
      ],
      "execution_count": null,
      "outputs": [
        {
          "output_type": "stream",
          "text": [
            "Old String: + is an operator.\n",
            "New String: + is an operator.\n"
          ],
          "name": "stdout"
        }
      ]
    },
    {
      "cell_type": "code",
      "metadata": {
        "colab": {
          "base_uri": "https://localhost:8080/"
        },
        "id": "djhHb0GlFiec",
        "outputId": "c22a7dca-e584-4fc7-9f6f-09fc9ae91ab7"
      },
      "source": [
        "#Example 1: center() Method With Default fillchar\n",
        "string = \"Python is awesome\"\n",
        "\n",
        "new_string = string.center(25)\n",
        "\n",
        "print(\"Centered String: \", new_string)"
      ],
      "execution_count": null,
      "outputs": [
        {
          "output_type": "stream",
          "text": [
            "Centered String:                                           Python is awesome                                          \n"
          ],
          "name": "stdout"
        }
      ]
    },
    {
      "cell_type": "code",
      "metadata": {
        "colab": {
          "base_uri": "https://localhost:8080/"
        },
        "id": "srLuOVJdFu1g",
        "outputId": "8710a99c-2002-4355-8f1b-b1404b9dd05e"
      },
      "source": [
        "#Example 2: center() Method With * fillchar\n",
        "string = \"Python is awesome\"\n",
        "\n",
        "new_string = string.center(24, '*')\n",
        "\n",
        "print(\"Centered String: \", new_string)"
      ],
      "execution_count": null,
      "outputs": [
        {
          "output_type": "stream",
          "text": [
            "Centered String:  ***Python is awesome****\n"
          ],
          "name": "stdout"
        }
      ]
    },
    {
      "cell_type": "markdown",
      "metadata": {
        "id": "JPf6yhoAGBAW"
      },
      "source": [
        "**Python String casefold()**\n",
        "The casefold() method is an aggressive lower() method which converts strings to case folded strings for caseless matching.\n",
        "\n",
        "The casefold() method removes all case distinctions present in a string. It is used for caseless matching, i.e. ignores cases when comparing.\n",
        "\n",
        "For example, the German lowercase letter ß is equivalent to ss. However, since ß is already lowercase, the lower() method does nothing to it. But, casefold() converts it to ss."
      ]
    },
    {
      "cell_type": "code",
      "metadata": {
        "colab": {
          "base_uri": "https://localhost:8080/"
        },
        "id": "kV-2RL-FGDOo",
        "outputId": "22332256-051a-43ed-c4c4-1d4d7327c1d4"
      },
      "source": [
        "#Example 1: Lowercase using casefold()\n",
        "string = \"PYTHON IS AWESOME\"\n",
        "\n",
        "# print lowercase string\n",
        "print(\"Lowercase string:\", string.casefold())"
      ],
      "execution_count": null,
      "outputs": [
        {
          "output_type": "stream",
          "text": [
            "Lowercase string: python is awesome\n"
          ],
          "name": "stdout"
        }
      ]
    },
    {
      "cell_type": "code",
      "metadata": {
        "colab": {
          "base_uri": "https://localhost:8080/"
        },
        "id": "bhcAO0NGGM0-",
        "outputId": "77e682d1-dbd8-458d-925b-6523009df732"
      },
      "source": [
        "#Example 2: Comparison using casefold()\n",
        "firstString = \"der Fluß\"\n",
        "secondString = \"der Fluss\"\n",
        "\n",
        "# ß is equivalent to ss\n",
        "if firstString.casefold() == secondString.casefold():\n",
        "    print('The strings are equal.')\n",
        "else:\n",
        "    print('The strings are not equal.')"
      ],
      "execution_count": null,
      "outputs": [
        {
          "output_type": "stream",
          "text": [
            "The strings are equal.\n"
          ],
          "name": "stdout"
        }
      ]
    },
    {
      "cell_type": "markdown",
      "metadata": {
        "id": "IGjJFMGUGcYR"
      },
      "source": [
        "# **count()** Parameters\n",
        "count() method only requires a single parameter for execution. However, it also has two optional parameters:\n",
        "\n",
        "substring - string whose count is to be found.\n",
        "start (Optional) - starting index within the string where search starts.\n",
        "end (Optional) - ending index within the string where search ends."
      ]
    },
    {
      "cell_type": "code",
      "metadata": {
        "colab": {
          "base_uri": "https://localhost:8080/"
        },
        "id": "5zcTpa-DGhXC",
        "outputId": "ba330bb7-1897-4d70-a504-769921723c19"
      },
      "source": [
        "# Example 1: Count number of occurrences of a given substring\n",
        "# define string\n",
        "string = \"Python is awesome, isn't it?\"\n",
        "substring = \"is\"\n",
        "\n",
        "count = string.count(substring)\n",
        "\n",
        "# print count\n",
        "print(\"The count is:\", count)"
      ],
      "execution_count": null,
      "outputs": [
        {
          "output_type": "stream",
          "text": [
            "The count is: 2\n"
          ],
          "name": "stdout"
        }
      ]
    },
    {
      "cell_type": "code",
      "metadata": {
        "colab": {
          "base_uri": "https://localhost:8080/"
        },
        "id": "AlSlBdSjGrpj",
        "outputId": "f274163d-8d15-4b57-c871-7e53c502936c"
      },
      "source": [
        "#Example 2: Count number of occurrences of a given substring using start and end\n",
        "# define string\n",
        "string = \"Python is awesome, isn't it?\"\n",
        "substring = \"i\"\n",
        "\n",
        "# count after first 'i' and before the last 'i'\n",
        "count = string.count(substring, 8, 25)\n",
        "\n",
        "# print count\n",
        "print(\"The count is:\", count)"
      ],
      "execution_count": null,
      "outputs": [
        {
          "output_type": "stream",
          "text": [
            "The count is: 1\n"
          ],
          "name": "stdout"
        }
      ]
    },
    {
      "cell_type": "markdown",
      "metadata": {
        "id": "ZfuE0G1pHEdJ"
      },
      "source": [
        "The isalnum() method returns True if all characters in the string are alphanumeric (either alphabets or numbers). If not, it returns False."
      ]
    },
    {
      "cell_type": "code",
      "metadata": {
        "colab": {
          "base_uri": "https://localhost:8080/"
        },
        "id": "Sr5i4zgxHFzK",
        "outputId": "2b5d8e72-d4ac-41f8-96bb-48ed63f70acc"
      },
      "source": [
        "#Example 1: Working of isalnum()\n",
        "name = \"M234onica\"\n",
        "print(name.isalnum())\n",
        "\n",
        "# contains whitespace\n",
        "name = \"M3onica Gell22er \"\n",
        "print(name.isalnum())\n",
        "\n",
        "name = \"Mo3nicaGell22er\"\n",
        "print(name.isalnum())\n",
        "\n",
        "name = \"133\"\n",
        "print(name.isalnum())"
      ],
      "execution_count": null,
      "outputs": [
        {
          "output_type": "stream",
          "text": [
            "True\n",
            "False\n",
            "True\n",
            "True\n"
          ],
          "name": "stdout"
        }
      ]
    },
    {
      "cell_type": "code",
      "metadata": {
        "colab": {
          "base_uri": "https://localhost:8080/"
        },
        "id": "XRJfIXyKHUU_",
        "outputId": "7fc89cb1-dedd-4b2a-91c3-aa4bdf077806"
      },
      "source": [
        "#Example 1: Working of isalnum()\n",
        "name = \"M0n1caG3ll3r\"\n",
        "\n",
        "if name.isalnum() == True:\n",
        "   print(\"All characters of string (name) are alphanumeric.\")\n",
        "else:\n",
        "    print(\"All characters are not alphanumeric.\")"
      ],
      "execution_count": null,
      "outputs": [
        {
          "output_type": "stream",
          "text": [
            "All characters of string (name) are alphanumeric.\n"
          ],
          "name": "stdout"
        }
      ]
    },
    {
      "cell_type": "markdown",
      "metadata": {
        "id": "T3D4i-iSKklC"
      },
      "source": [
        "The split() method breaks up a string at the specified separator and returns a list of strings.\n",
        "\n",
        "split() Parameters\n",
        "The split() method takes a maximum of 2 parameters:\n",
        "\n",
        "separator (optional)- Delimiter at which splits occur. If not provided, the string is splitted at whitespaces.\n",
        "maxsplit (optional) - Maximum number of splits. If not provided, there is no limit on the number of splits.\n"
      ]
    },
    {
      "cell_type": "code",
      "metadata": {
        "colab": {
          "base_uri": "https://localhost:8080/"
        },
        "id": "k0fgagmCKj7p",
        "outputId": "6f848404-532c-4f98-f8bc-73744e484b3e"
      },
      "source": [
        "text = 'Python is a fun programming language'\n",
        "\n",
        "# split the text from space\n",
        "print(text.split(' '))\n",
        "\n",
        "# Output: ['Python', 'is', 'a', 'fun', 'programming', 'language']"
      ],
      "execution_count": null,
      "outputs": [
        {
          "output_type": "stream",
          "text": [
            "['Python', 'is', 'a', 'fun', 'programming', 'language']\n"
          ],
          "name": "stdout"
        }
      ]
    },
    {
      "cell_type": "code",
      "metadata": {
        "colab": {
          "base_uri": "https://localhost:8080/"
        },
        "id": "6STEmKv1Kucl",
        "outputId": "142719d8-c8b8-4197-f6cd-b640456f9ddc"
      },
      "source": [
        "#Example 1: How split() works in Python?\n",
        "text= 'Love thy neighbor'\n",
        "\n",
        "# splits at space\n",
        "print(text.split())\n",
        "\n",
        "grocery = 'Milk, Chicken, Bread'\n",
        "\n",
        "# splits at ','\n",
        "print(grocery.split(', '))\n",
        "\n",
        "# Splits at ':'\n",
        "print(grocery.split(':'))"
      ],
      "execution_count": null,
      "outputs": [
        {
          "output_type": "stream",
          "text": [
            "['Love', 'thy', 'neighbor']\n",
            "['Milk', 'Chicken', 'Bread']\n",
            "['Milk, Chicken, Bread']\n"
          ],
          "name": "stdout"
        }
      ]
    },
    {
      "cell_type": "code",
      "metadata": {
        "colab": {
          "base_uri": "https://localhost:8080/"
        },
        "id": "66OAk88ALJvU",
        "outputId": "7ef3b3a5-2084-4632-fb15-d1e35f83a6a0"
      },
      "source": [
        "#Example 2: How split() works when maxsplit is specified?\n",
        "grocery = 'Milk, Chicken, Bread, Butter'\n",
        "\n",
        "# maxsplit: 2\n",
        "print(grocery.split(', ', 2))\n",
        "\n",
        "# maxsplit: 1\n",
        "print(grocery.split(', ', 1))\n",
        "\n",
        "# maxsplit: 5\n",
        "print(grocery.split(', ', 5))\n",
        "\n",
        "# maxsplit: 0\n",
        "print(grocery.split(', ', 0))"
      ],
      "execution_count": null,
      "outputs": [
        {
          "output_type": "stream",
          "text": [
            "['Milk', 'Chicken', 'Bread, Butter']\n",
            "['Milk', 'Chicken, Bread, Butter']\n",
            "['Milk', 'Chicken', 'Bread', 'Butter']\n",
            "['Milk, Chicken, Bread, Butter']\n"
          ],
          "name": "stdout"
        }
      ]
    }
  ]
}